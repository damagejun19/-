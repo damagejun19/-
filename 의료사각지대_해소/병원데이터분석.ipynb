{
 "cells": [
  {
   "cell_type": "code",
   "execution_count": 102,
   "id": "therapeutic-plate",
   "metadata": {},
   "outputs": [],
   "source": [
    "import pandas as pd\n",
    "import numpy as np\n",
    "import matplotlib as mpl\n",
    "import matplotlib.pyplot as plt\n",
    "import seaborn as sns\n",
    "from matplotlib import rc\n",
    "from matplotlib import pyplot\n",
    "\n",
    "# os x(mac os) 한글 font \n",
    "\n",
    "\n",
    "# 노트북 안에 그래플 그리기 위해 셋팅\n",
    "%matplotlib inline\n",
    "\n",
    "# 그래프를 격자 스타일로 (숫자 범위가 눈에 잘 띄도록 ggplot 스타일 사용.)\n",
    "plt.style.use(\"ggplot\")\n",
    "\n",
    "# 그래프에서 마이너스 폰트 깨지는 문제 해결을 위해\n",
    "mpl.rcParams[\"axes.unicode_minus\"] = False\n",
    "\n",
    "# 경고 문구 무시\n",
    "import warnings\n",
    "warnings.filterwarnings(action='ignore')\n",
    "\n",
    "from matplotlib import font_manager, rc\n",
    "import platform\n",
    "\n",
    "if platform.system() == 'Windows':\n",
    "# 윈도우인 경우\n",
    "    font_name = font_manager.FontProperties(fname=\"c:/Windows/Fonts/malgun.ttf\").get_name()\n",
    "    rc('font', family=font_name)\n",
    "else:    \n",
    "# Mac 인 경우\n",
    "    rc('font', family='AppleGothic')\n",
    "    \n",
    "mpl.rcParams['axes.unicode_minus'] = False  "
   ]
  },
  {
   "cell_type": "code",
   "execution_count": 2,
   "id": "structural-calculation",
   "metadata": {},
   "outputs": [
    {
     "data": {
      "text/html": [
       "<div>\n",
       "<style scoped>\n",
       "    .dataframe tbody tr th:only-of-type {\n",
       "        vertical-align: middle;\n",
       "    }\n",
       "\n",
       "    .dataframe tbody tr th {\n",
       "        vertical-align: top;\n",
       "    }\n",
       "\n",
       "    .dataframe thead th {\n",
       "        text-align: right;\n",
       "    }\n",
       "</style>\n",
       "<table border=\"1\" class=\"dataframe\">\n",
       "  <thead>\n",
       "    <tr style=\"text-align: right;\">\n",
       "      <th></th>\n",
       "      <th>Unnamed: 0</th>\n",
       "      <th>dutyAddr</th>\n",
       "      <th>dutyDiv</th>\n",
       "      <th>dutyDivNam</th>\n",
       "      <th>dutyEmcls</th>\n",
       "      <th>dutyEmclsName</th>\n",
       "      <th>dutyEryn</th>\n",
       "      <th>dutyMapimg</th>\n",
       "      <th>dutyName</th>\n",
       "      <th>dutyTel1</th>\n",
       "      <th>...</th>\n",
       "      <th>dutyTime8s</th>\n",
       "      <th>hpid</th>\n",
       "      <th>postCdn1</th>\n",
       "      <th>postCdn2</th>\n",
       "      <th>rnum</th>\n",
       "      <th>wgs84Lat</th>\n",
       "      <th>wgs84Lon</th>\n",
       "      <th>dutyEtc</th>\n",
       "      <th>dutyInf</th>\n",
       "      <th>dutyTel3</th>\n",
       "    </tr>\n",
       "  </thead>\n",
       "  <tbody>\n",
       "    <tr>\n",
       "      <th>0</th>\n",
       "      <td>0</td>\n",
       "      <td>충청북도 충주시 호암토성2로 7, 삼성프라자 3층 (호암동)</td>\n",
       "      <td>C</td>\n",
       "      <td>의원</td>\n",
       "      <td>G099</td>\n",
       "      <td>응급의료기관 이외</td>\n",
       "      <td>2</td>\n",
       "      <td>공용터미널 부근</td>\n",
       "      <td>물맑은비뇨기과의원</td>\n",
       "      <td>043-843-8275</td>\n",
       "      <td>...</td>\n",
       "      <td>900.0</td>\n",
       "      <td>A2301855</td>\n",
       "      <td>274.0</td>\n",
       "      <td>80.0</td>\n",
       "      <td>1</td>\n",
       "      <td>36.982634</td>\n",
       "      <td>127.916586</td>\n",
       "      <td>NaN</td>\n",
       "      <td>NaN</td>\n",
       "      <td>NaN</td>\n",
       "    </tr>\n",
       "    <tr>\n",
       "      <th>1</th>\n",
       "      <td>1</td>\n",
       "      <td>충청북도 충주시 호암수청1로 13, 2동 105-7호 (호암동, 우미린에듀시티아파트)</td>\n",
       "      <td>G</td>\n",
       "      <td>한의원</td>\n",
       "      <td>G099</td>\n",
       "      <td>응급의료기관 이외</td>\n",
       "      <td>2</td>\n",
       "      <td>NaN</td>\n",
       "      <td>신통한의원</td>\n",
       "      <td>043-846-1233</td>\n",
       "      <td>...</td>\n",
       "      <td>NaN</td>\n",
       "      <td>B2300639</td>\n",
       "      <td>275.0</td>\n",
       "      <td>2.0</td>\n",
       "      <td>2</td>\n",
       "      <td>36.955345</td>\n",
       "      <td>127.922340</td>\n",
       "      <td>NaN</td>\n",
       "      <td>NaN</td>\n",
       "      <td>NaN</td>\n",
       "    </tr>\n",
       "    <tr>\n",
       "      <th>2</th>\n",
       "      <td>2</td>\n",
       "      <td>충청북도 충주시 호암수청1길 5, 2층 (호암동)</td>\n",
       "      <td>C</td>\n",
       "      <td>의원</td>\n",
       "      <td>G099</td>\n",
       "      <td>응급의료기관 이외</td>\n",
       "      <td>2</td>\n",
       "      <td>NaN</td>\n",
       "      <td>홍이소아청소년과의원</td>\n",
       "      <td>043-854-2000</td>\n",
       "      <td>...</td>\n",
       "      <td>NaN</td>\n",
       "      <td>A2300130</td>\n",
       "      <td>275.0</td>\n",
       "      <td>2.0</td>\n",
       "      <td>3</td>\n",
       "      <td>36.986748</td>\n",
       "      <td>127.943391</td>\n",
       "      <td>X-RAY○/성인내과진료○/이비인후과진료○(전화문의)</td>\n",
       "      <td>NaN</td>\n",
       "      <td>NaN</td>\n",
       "    </tr>\n",
       "    <tr>\n",
       "      <th>3</th>\n",
       "      <td>3</td>\n",
       "      <td>충청북도 충주시 형설로 98 (용산동)</td>\n",
       "      <td>C</td>\n",
       "      <td>의원</td>\n",
       "      <td>G099</td>\n",
       "      <td>응급의료기관 이외</td>\n",
       "      <td>2</td>\n",
       "      <td>중앙 신협부근</td>\n",
       "      <td>마디정형외과의원</td>\n",
       "      <td>043-854-7582</td>\n",
       "      <td>...</td>\n",
       "      <td>900.0</td>\n",
       "      <td>A2300115</td>\n",
       "      <td>273.0</td>\n",
       "      <td>98.0</td>\n",
       "      <td>4</td>\n",
       "      <td>36.962777</td>\n",
       "      <td>127.939768</td>\n",
       "      <td>물리치료/X-RAY/관절경수술/골절환자(허리골절)진료</td>\n",
       "      <td>NaN</td>\n",
       "      <td>NaN</td>\n",
       "    </tr>\n",
       "    <tr>\n",
       "      <th>4</th>\n",
       "      <td>4</td>\n",
       "      <td>충청북도 충주시 형설로 98 (용산동)</td>\n",
       "      <td>N</td>\n",
       "      <td>치과의원</td>\n",
       "      <td>G099</td>\n",
       "      <td>응급의료기관 이외</td>\n",
       "      <td>2</td>\n",
       "      <td>NaN</td>\n",
       "      <td>e플란트치과의원</td>\n",
       "      <td>043-844-2228</td>\n",
       "      <td>...</td>\n",
       "      <td>NaN</td>\n",
       "      <td>A2300946</td>\n",
       "      <td>273.0</td>\n",
       "      <td>98.0</td>\n",
       "      <td>5</td>\n",
       "      <td>36.962679</td>\n",
       "      <td>127.939798</td>\n",
       "      <td>-월수 (20시까지 진료) /목요일은 오전진료만\\n-심미보철,치아미백,임플란트/치아...</td>\n",
       "      <td>NaN</td>\n",
       "      <td>NaN</td>\n",
       "    </tr>\n",
       "  </tbody>\n",
       "</table>\n",
       "<p>5 rows × 35 columns</p>\n",
       "</div>"
      ],
      "text/plain": [
       "   Unnamed: 0                                         dutyAddr dutyDiv  \\\n",
       "0           0                충청북도 충주시 호암토성2로 7, 삼성프라자 3층 (호암동)       C   \n",
       "1           1  충청북도 충주시 호암수청1로 13, 2동 105-7호 (호암동, 우미린에듀시티아파트)       G   \n",
       "2           2                      충청북도 충주시 호암수청1길 5, 2층 (호암동)       C   \n",
       "3           3                            충청북도 충주시 형설로 98 (용산동)       C   \n",
       "4           4                            충청북도 충주시 형설로 98 (용산동)       N   \n",
       "\n",
       "  dutyDivNam dutyEmcls dutyEmclsName  dutyEryn dutyMapimg    dutyName  \\\n",
       "0         의원      G099     응급의료기관 이외         2   공용터미널 부근   물맑은비뇨기과의원   \n",
       "1        한의원      G099     응급의료기관 이외         2        NaN       신통한의원   \n",
       "2         의원      G099     응급의료기관 이외         2        NaN  홍이소아청소년과의원   \n",
       "3         의원      G099     응급의료기관 이외         2    중앙 신협부근    마디정형외과의원   \n",
       "4       치과의원      G099     응급의료기관 이외         2        NaN    e플란트치과의원   \n",
       "\n",
       "       dutyTel1  ...  dutyTime8s      hpid  postCdn1  postCdn2  rnum  \\\n",
       "0  043-843-8275  ...       900.0  A2301855     274.0      80.0     1   \n",
       "1  043-846-1233  ...         NaN  B2300639     275.0       2.0     2   \n",
       "2  043-854-2000  ...         NaN  A2300130     275.0       2.0     3   \n",
       "3  043-854-7582  ...       900.0  A2300115     273.0      98.0     4   \n",
       "4  043-844-2228  ...         NaN  A2300946     273.0      98.0     5   \n",
       "\n",
       "    wgs84Lat    wgs84Lon                                            dutyEtc  \\\n",
       "0  36.982634  127.916586                                                NaN   \n",
       "1  36.955345  127.922340                                                NaN   \n",
       "2  36.986748  127.943391                      X-RAY○/성인내과진료○/이비인후과진료○(전화문의)   \n",
       "3  36.962777  127.939768                      물리치료/X-RAY/관절경수술/골절환자(허리골절)진료   \n",
       "4  36.962679  127.939798  -월수 (20시까지 진료) /목요일은 오전진료만\\n-심미보철,치아미백,임플란트/치아...   \n",
       "\n",
       "   dutyInf  dutyTel3  \n",
       "0      NaN       NaN  \n",
       "1      NaN       NaN  \n",
       "2      NaN       NaN  \n",
       "3      NaN       NaN  \n",
       "4      NaN       NaN  \n",
       "\n",
       "[5 rows x 35 columns]"
      ]
     },
     "execution_count": 2,
     "metadata": {},
     "output_type": "execute_result"
    }
   ],
   "source": [
    "df = pd.read_csv('./hospi4.csv')\n",
    "df.head()"
   ]
  },
  {
   "cell_type": "code",
   "execution_count": 53,
   "id": "first-grass",
   "metadata": {},
   "outputs": [
    {
     "name": "stdout",
     "output_type": "stream",
     "text": [
      "72562\n"
     ]
    },
    {
     "data": {
      "text/plain": [
       "[17435,\n",
       " 5261,\n",
       " 3828,\n",
       " 3449,\n",
       " 2190,\n",
       " 2226,\n",
       " 1383,\n",
       " 397,\n",
       " 15873,\n",
       " 1877,\n",
       " 2101,\n",
       " 2699,\n",
       " 2851,\n",
       " 2577,\n",
       " 3334,\n",
       " 4122,\n",
       " 959]"
      ]
     },
     "execution_count": 53,
     "metadata": {},
     "output_type": "execute_result"
    }
   ],
   "source": [
    "region_list = ['서울특별시', '부산광역시', '대구광역시', '인천광역시', '광주광역시', '대전광역시', '울산광역시', '세종특별자치시', '경기도', '강원도', '충청북도', '충청남도','전라북도', '전라남도', '경상북도', '경상남도', '제주특별자치도']\n",
    "region_hospital = []\n",
    "region_list1 = ['서울', '경기도', '부산', '경남', '대구', '인천', '경북', '울산', '전북', '충남', '전남', '대전', '광주', '충북', '강원도', '제주', '세종시']\n",
    "for i in region_list:\n",
    "    count = 0\n",
    "    for j in range(len(df['dutyAddr'])):\n",
    "        if i in df['dutyAddr'][j]:\n",
    "            count += 1\n",
    "    region_hospital.append(count)\n",
    "print(sum(region_hospital))\n",
    "region_hospital1 = region_hospital    \n",
    "region_hospital1"
   ]
  },
  {
   "cell_type": "code",
   "execution_count": 25,
   "id": "removed-minority",
   "metadata": {},
   "outputs": [
    {
     "name": "stdout",
     "output_type": "stream",
     "text": [
      "[17435, 15873, 5261, 4122, 3828, 3449, 3334, 2851, 2699, 2577, 2226, 2190, 2101, 1877, 1383, 959, 397]\n"
     ]
    }
   ],
   "source": [
    "region_hospital.sort(reverse=True)\n",
    "print(region_hospital)"
   ]
  },
  {
   "cell_type": "code",
   "execution_count": 26,
   "id": "pacific-immunology",
   "metadata": {},
   "outputs": [
    {
     "data": {
      "image/png": "[encoded data removed]",
      "text/plain": [
       "<Figure size 1296x720 with 1 Axes>"
      ]
     },
     "metadata": {},
     "output_type": "display_data"
    }
   ],
   "source": [
    "plt.figure(figsize=(18,10))\n",
    "x = np.arange(len(region_list))\n",
    "years = region_list1\n",
    "values = region_hospital\n",
    "\n",
    "colors = ['brown', 'brown', 'saddlebrown', 'sienna', 'chocolate', 'sandybrown', 'peachpuff', 'mistyrose', 'linen', 'linen', 'linen', 'linen', 'linen', 'linen', 'linen', 'linen', 'linen']\n",
    "plt.bar(x, values, color=colors)\n",
    "plt.xticks(x, years)\n",
    "plt.title(\"시도별 병원 수\")\n",
    "plt.show()"
   ]
  },
  {
   "cell_type": "code",
   "execution_count": 27,
   "id": "several-neighbor",
   "metadata": {},
   "outputs": [
    {
     "name": "stdout",
     "output_type": "stream",
     "text": [
      "[468, 544, 303, 444, 544, 582, 525, 524, 456, 362, 725, 667, 430, 720, 620, 960, 554, 348, 753, 575, 681, 1204, 2597, 1161, 802]\n"
     ]
    }
   ],
   "source": [
    "seoul_region_list = ['종로구', '서울특별시 중구', '용산구', '성동구', '광진구', '동대문구', '중랑구', '성북구', '강북구', '도봉구', '노원구', '은평구', '서대문구', '마포구', '양천구', '강서구', '구로구', '금천구', '영등포구', '동작구', '관악구', '서초구', '강남구', '송파구', '강동구']\n",
    "seoul_hospital = []\n",
    "for i in seoul_region_list:\n",
    "    count = 0\n",
    "    for j in range(len(df['dutyAddr'])):\n",
    "        if i in df['dutyAddr'][j]:\n",
    "            count += 1\n",
    "    seoul_hospital.append(count)\n",
    "print(seoul_hospital)"
   ]
  },
  {
   "cell_type": "code",
   "execution_count": 28,
   "id": "expressed-anaheim",
   "metadata": {},
   "outputs": [],
   "source": [
    "sum(seoul_hospital)\n",
    "seoul_region_list = ['종로구', '중구', '용산구', '성동구', '광진구', '동대문구', '중랑구', '성북구', '강북구', '도봉구', '노원구', '은평구', '서대문구', '마포구', '양천구', '강서구', '구로구', '금천구', '영등포구', '동작구', '관악구', '서초구', '강남구', '송파구', '강동구']"
   ]
  },
  {
   "cell_type": "code",
   "execution_count": 29,
   "id": "genetic-circuit",
   "metadata": {},
   "outputs": [
    {
     "name": "stdout",
     "output_type": "stream",
     "text": [
      "{'종로구': 468, '중구': 544, '용산구': 303, '성동구': 444, '광진구': 544, '동대문구': 582, '중랑구': 525, '성북구': 524, '강북구': 456, '도봉구': 362, '노원구': 725, '은평구': 667, '서대문구': 430, '마포구': 720, '양천구': 620, '강서구': 960, '구로구': 554, '금천구': 348, '영등포구': 753, '동작구': 575, '관악구': 681, '서초구': 1204, '강남구': 2597, '송파구': 1161, '강동구': 802}\n"
     ]
    }
   ],
   "source": [
    "s = {}\n",
    "\n",
    "for i in range(len(seoul_region_list)):\n",
    "    s[seoul_region_list[i]] = seoul_hospital[i]\n",
    "\n",
    "print(s)"
   ]
  },
  {
   "cell_type": "code",
   "execution_count": 30,
   "id": "agreed-trauma",
   "metadata": {},
   "outputs": [
    {
     "name": "stdout",
     "output_type": "stream",
     "text": [
      "[('용산구', 303), ('금천구', 348), ('도봉구', 362), ('서대문구', 430), ('성동구', 444), ('강북구', 456), ('종로구', 468), ('성북구', 524), ('중랑구', 525), ('중구', 544), ('광진구', 544), ('구로구', 554), ('동작구', 575), ('동대문구', 582), ('양천구', 620), ('은평구', 667), ('관악구', 681), ('마포구', 720), ('노원구', 725), ('영등포구', 753), ('강동구', 802), ('강서구', 960), ('송파구', 1161), ('서초구', 1204), ('강남구', 2597)]\n"
     ]
    }
   ],
   "source": [
    "a = sorted(s.items(), key=lambda x:x[1])\n",
    "print(a)"
   ]
  },
  {
   "cell_type": "code",
   "execution_count": 31,
   "id": "confidential-bosnia",
   "metadata": {},
   "outputs": [
    {
     "name": "stdout",
     "output_type": "stream",
     "text": [
      "25 25\n"
     ]
    }
   ],
   "source": [
    "seoul_region_list = []\n",
    "seoul_hospital = []\n",
    "for i in a:\n",
    "    seoul_region_list.append(i[0])\n",
    "    seoul_hospital.append(i[1])\n",
    "print(len(seoul_region_list), len(seoul_hospital))"
   ]
  },
  {
   "cell_type": "code",
   "execution_count": 32,
   "id": "surprising-rebecca",
   "metadata": {},
   "outputs": [
    {
     "data": {
      "text/plain": [
       "17"
      ]
     },
     "execution_count": 32,
     "metadata": {},
     "output_type": "execute_result"
    }
   ],
   "source": [
    "len(colors)"
   ]
  },
  {
   "cell_type": "code",
   "execution_count": 33,
   "id": "recognized-measurement",
   "metadata": {},
   "outputs": [
    {
     "data": {
      "image/png": "[encoded data removed]",
      "text/plain": [
       "<Figure size 1296x720 with 1 Axes>"
      ]
     },
     "metadata": {},
     "output_type": "display_data"
    }
   ],
   "source": [
    "plt.figure(figsize=(18,10))\n",
    "x = np.arange(len(seoul_region_list))\n",
    "years = seoul_region_list\n",
    "values = seoul_hospital\n",
    "\n",
    "colors = ['beige', 'beige', 'beige', 'beige', 'beige', 'beige', 'beige', 'beige', 'beige', 'beige', 'beige',  'oldlace', 'oldlace', 'oldlace', 'oldlace', 'wheat', 'wheat', 'wheat', 'wheat','palegoldenrod', 'khaki', 'goldenrod', 'darkorange', 'orange', 'gold']\n",
    "plt.barh(years, values, color=colors)\n",
    "# plt.xticks(x, years)\n",
    "plt.title(\"서울시 행정구별 병원 수\")\n",
    "plt.show()"
   ]
  },
  {
   "cell_type": "code",
   "execution_count": 34,
   "id": "sacred-swimming",
   "metadata": {},
   "outputs": [
    {
     "name": "stdout",
     "output_type": "stream",
     "text": [
      "[18008, 4016, 1505, 232, 163, 357, 422, 14248, 52, 64884, 3499]\n",
      "['치과의원', '병원', '요양병원', '치과병원', '기타', '종합병원', '한방병원', '한의원', '기타(구급차)', '의원', '보건소']\n",
      "{'치과의원': 18008, '병원': 4016, '요양병원': 1505, '치과병원': 232, '기타': 163, '종합병원': 357, '한방병원': 422, '한의원': 14248, '기타(구급차)': 52, '의원': 64884, '보건소': 3499}\n"
     ]
    }
   ],
   "source": [
    "hospital_type = []\n",
    "\n",
    "for i in df['dutyDivNam']:\n",
    "    hospital_type.append(i)\n",
    "\n",
    "hospital_type = list(set(hospital_type))\n",
    "hospital_type\n",
    "\n",
    "hospital_type_number = []\n",
    "for i in hospital_type:\n",
    "    count = 0\n",
    "    for j in range(len(df['dutyDivNam'])):\n",
    "        if i in df['dutyDivNam'][j]:\n",
    "            count += 1\n",
    "    hospital_type_number.append(count)\n",
    "print(hospital_type_number)\n",
    "print(hospital_type)\n",
    "\n",
    "hospital_num_dict = {}\n",
    "for i in range(len(hospital_type)):\n",
    "    hospital_num_dict[hospital_type[i]] = hospital_type_number[i]\n",
    "print(hospital_num_dict)"
   ]
  },
  {
   "cell_type": "code",
   "execution_count": 59,
   "id": "wooden-study",
   "metadata": {},
   "outputs": [
    {
     "name": "stdout",
     "output_type": "stream",
     "text": [
      "[('기타(구급차)', 52), ('기타', 163), ('치과병원', 232), ('종합병원', 357), ('한방병원', 422), ('요양병원', 1505), ('보건소', 3499), ('병원', 4016), ('한의원', 14248), ('치과의원', 18008), ('의원', 64884)]\n",
      "['기타(구급차)', '기타', '치과병원', '종합병원', '한방병원', '요양병원', '보건소', '병원', '한의원', '치과의원', '의원'] [52, 163, 232, 357, 422, 1505, 3499, 4016, 14248, 18008, 64884]\n",
      "[52, 163, 232, 357, 422, 1505, 3499, 4016, 14248, 18008, 32628]\n"
     ]
    }
   ],
   "source": [
    "h = sorted(hospital_num_dict.items(), key=lambda x:x[1])\n",
    "print(h)\n",
    "\n",
    "hospital_type = []\n",
    "hospital_type_number = []\n",
    "\n",
    "for i in range(len(h)):\n",
    "    hospital_type.append(h[i][0])\n",
    "    hospital_type_number.append(h[i][1])\n",
    "print(hospital_type, hospital_type_number)    \n",
    "hospital_type_number[10] = 32628\n",
    "print(hospital_type_number)"
   ]
  },
  {
   "cell_type": "code",
   "execution_count": 60,
   "id": "genetic-industry",
   "metadata": {
    "scrolled": false
   },
   "outputs": [
    {
     "data": {
      "image/png": "[encoded data removed]",
      "text/plain": [
       "<Figure size 1080x720 with 1 Axes>"
      ]
     },
     "metadata": {},
     "output_type": "display_data"
    }
   ],
   "source": [
    "plt.figure(figsize=(15,10))\n",
    "x = np.arange(len(hospital_type))\n",
    "years = hospital_type\n",
    "values = hospital_type_number\n",
    "\n",
    "colors =['oldlace', 'wheat', 'wheat', 'wheat', 'wheat','palegoldenrod', 'khaki', 'goldenrod', 'darkorange', 'orange', 'gold']\n",
    "plt.barh(years, values, color=colors)\n",
    "plt.title(\"병원종류\")\n",
    "\n",
    "for i, v in enumerate(years):\n",
    "    str_val = \"%d\" % values[i]\n",
    "    pyplot.text(values[i], v, str_val, fontsize=15, color='#ff6600', horizontalalignment='left', verticalalignment = 'center')\n",
    "plt.show()"
   ]
  },
  {
   "cell_type": "code",
   "execution_count": 37,
   "id": "thick-terminology",
   "metadata": {},
   "outputs": [
    {
     "data": {
      "text/html": [
       "<div>\n",
       "<style scoped>\n",
       "    .dataframe tbody tr th:only-of-type {\n",
       "        vertical-align: middle;\n",
       "    }\n",
       "\n",
       "    .dataframe tbody tr th {\n",
       "        vertical-align: top;\n",
       "    }\n",
       "\n",
       "    .dataframe thead th {\n",
       "        text-align: right;\n",
       "    }\n",
       "</style>\n",
       "<table border=\"1\" class=\"dataframe\">\n",
       "  <thead>\n",
       "    <tr style=\"text-align: right;\">\n",
       "      <th></th>\n",
       "      <th>행정구역(시군구)별</th>\n",
       "      <th>2020</th>\n",
       "      <th>2020.1</th>\n",
       "      <th>2020.2</th>\n",
       "    </tr>\n",
       "  </thead>\n",
       "  <tbody>\n",
       "    <tr>\n",
       "      <th>0</th>\n",
       "      <td>행정구역(시군구)별</td>\n",
       "      <td>총인구수 (명)</td>\n",
       "      <td>남자인구수 (명)</td>\n",
       "      <td>여자인구수 (명)</td>\n",
       "    </tr>\n",
       "    <tr>\n",
       "      <th>1</th>\n",
       "      <td>서울특별시</td>\n",
       "      <td>9,668,465</td>\n",
       "      <td>4,701,723</td>\n",
       "      <td>4,966,742</td>\n",
       "    </tr>\n",
       "    <tr>\n",
       "      <th>2</th>\n",
       "      <td>종로구</td>\n",
       "      <td>149,384</td>\n",
       "      <td>72,635</td>\n",
       "      <td>76,749</td>\n",
       "    </tr>\n",
       "    <tr>\n",
       "      <th>3</th>\n",
       "      <td>중구</td>\n",
       "      <td>125,240</td>\n",
       "      <td>61,222</td>\n",
       "      <td>64,018</td>\n",
       "    </tr>\n",
       "    <tr>\n",
       "      <th>4</th>\n",
       "      <td>용산구</td>\n",
       "      <td>230,040</td>\n",
       "      <td>110,722</td>\n",
       "      <td>119,318</td>\n",
       "    </tr>\n",
       "  </tbody>\n",
       "</table>\n",
       "</div>"
      ],
      "text/plain": [
       "   행정구역(시군구)별       2020     2020.1     2020.2\n",
       "0  행정구역(시군구)별   총인구수 (명)  남자인구수 (명)  여자인구수 (명)\n",
       "1       서울특별시  9,668,465  4,701,723  4,966,742\n",
       "2      　　　종로구    149,384     72,635     76,749\n",
       "3       　　　중구    125,240     61,222     64,018\n",
       "4      　　　용산구    230,040    110,722    119,318"
      ]
     },
     "execution_count": 37,
     "metadata": {},
     "output_type": "execute_result"
    }
   ],
   "source": [
    "df_population = pd.read_csv('./서울인구수.csv')\n",
    "df_population.head()"
   ]
  },
  {
   "cell_type": "code",
   "execution_count": 38,
   "id": "obvious-prior",
   "metadata": {},
   "outputs": [
    {
     "data": {
      "text/plain": [
       "2     149,384\n",
       "3     125,240\n",
       "4     230,040\n",
       "5     293,556\n",
       "6     346,682\n",
       "7     342,837\n",
       "8     394,702\n",
       "9     437,153\n",
       "10    308,055\n",
       "11    325,257\n",
       "12    523,037\n",
       "13    479,835\n",
       "14    312,173\n",
       "15    371,890\n",
       "16    454,251\n",
       "17    580,185\n",
       "18    404,408\n",
       "19    231,733\n",
       "20    379,480\n",
       "21    391,220\n",
       "22    495,060\n",
       "23    425,126\n",
       "24    539,231\n",
       "25    667,960\n",
       "26    459,970\n",
       "Name: 2020, dtype: object"
      ]
     },
     "execution_count": 38,
     "metadata": {},
     "output_type": "execute_result"
    }
   ],
   "source": [
    "df_population.loc[2:, '2020']"
   ]
  },
  {
   "cell_type": "code",
   "execution_count": 39,
   "id": "entertaining-logistics",
   "metadata": {},
   "outputs": [
    {
     "name": "stdout",
     "output_type": "stream",
     "text": [
      "[149384, 125240, 230040, 293556, 346682, 342837, 394702, 437153, 308055, 325257, 523037, 479835, 312173, 371890, 454251, 580185, 404408, 231733, 379480, 391220, 495060, 425126, 539231, 667960, 459970]\n"
     ]
    }
   ],
   "source": [
    "seoul_province_popul = []\n",
    "\n",
    "for i in df_population.loc[2:, '2020']:\n",
    "    seoul_province_popul.append(int(i.replace(',', '')))\n",
    "print(seoul_province_popul)"
   ]
  },
  {
   "cell_type": "code",
   "execution_count": 40,
   "id": "inner-arctic",
   "metadata": {},
   "outputs": [
    {
     "name": "stdout",
     "output_type": "stream",
     "text": [
      "[303, 348, 362, 430, 444, 456, 468, 524, 525, 544, 544, 554, 575, 582, 620, 667, 681, 720, 725, 753, 802, 960, 1161, 1204, 2597]\n"
     ]
    }
   ],
   "source": [
    "print(seoul_hospital)"
   ]
  },
  {
   "cell_type": "code",
   "execution_count": 52,
   "id": "loose-sperm",
   "metadata": {},
   "outputs": [
    {
     "data": {
      "image/png": "[encoded data removed]",
      "text/plain": [
       "<Figure size 504x504 with 1 Axes>"
      ]
     },
     "metadata": {},
     "output_type": "display_data"
    }
   ],
   "source": [
    "plt.figure(figsize=(7, 7))         # 플롯 사이즈 지정\n",
    "plt.scatter(seoul_province_popul, seoul_hospital) # 산점도\n",
    "plt.xlabel(\"population\")                  # x축 레이블 지정\n",
    "plt.ylabel(\"number_of_hospital\")                   # y축 레이블 지정\n",
    "plt.grid()                           # 플롯에 격자 보이기\n",
    "plt.show()"
   ]
  },
  {
   "cell_type": "code",
   "execution_count": 42,
   "id": "champion-retirement",
   "metadata": {},
   "outputs": [
    {
     "data": {
      "text/plain": [
       "(0.45103162772322825, 0.023640630666142203)"
      ]
     },
     "execution_count": 42,
     "metadata": {},
     "output_type": "execute_result"
    }
   ],
   "source": [
    "import scipy.stats as stats\n",
    "\n",
    "# 피어슨 상관계수 검정\n",
    "corr = stats.pearsonr(seoul_province_popul, seoul_hospital)\n",
    "corr"
   ]
  },
  {
   "cell_type": "code",
   "execution_count": 43,
   "id": "stopped-branch",
   "metadata": {},
   "outputs": [
    {
     "data": {
      "text/html": [
       "<div>\n",
       "<style scoped>\n",
       "    .dataframe tbody tr th:only-of-type {\n",
       "        vertical-align: middle;\n",
       "    }\n",
       "\n",
       "    .dataframe tbody tr th {\n",
       "        vertical-align: top;\n",
       "    }\n",
       "\n",
       "    .dataframe thead th {\n",
       "        text-align: right;\n",
       "    }\n",
       "</style>\n",
       "<table border=\"1\" class=\"dataframe\">\n",
       "  <thead>\n",
       "    <tr style=\"text-align: right;\">\n",
       "      <th></th>\n",
       "      <th>행정구역(시군구)별</th>\n",
       "      <th>2020</th>\n",
       "      <th>2020.1</th>\n",
       "      <th>2020.2</th>\n",
       "    </tr>\n",
       "  </thead>\n",
       "  <tbody>\n",
       "    <tr>\n",
       "      <th>0</th>\n",
       "      <td>행정구역(시군구)별</td>\n",
       "      <td>총인구수 (명)</td>\n",
       "      <td>남자인구수 (명)</td>\n",
       "      <td>여자인구수 (명)</td>\n",
       "    </tr>\n",
       "    <tr>\n",
       "      <th>1</th>\n",
       "      <td>전국</td>\n",
       "      <td>51,829,023</td>\n",
       "      <td>25,841,029</td>\n",
       "      <td>25,987,994</td>\n",
       "    </tr>\n",
       "    <tr>\n",
       "      <th>2</th>\n",
       "      <td>서울특별시</td>\n",
       "      <td>9,668,465</td>\n",
       "      <td>4,701,723</td>\n",
       "      <td>4,966,742</td>\n",
       "    </tr>\n",
       "    <tr>\n",
       "      <th>3</th>\n",
       "      <td>부산광역시</td>\n",
       "      <td>3,391,946</td>\n",
       "      <td>1,661,000</td>\n",
       "      <td>1,730,946</td>\n",
       "    </tr>\n",
       "    <tr>\n",
       "      <th>4</th>\n",
       "      <td>대구광역시</td>\n",
       "      <td>2,418,346</td>\n",
       "      <td>1,193,109</td>\n",
       "      <td>1,225,237</td>\n",
       "    </tr>\n",
       "  </tbody>\n",
       "</table>\n",
       "</div>"
      ],
      "text/plain": [
       "   행정구역(시군구)별        2020      2020.1      2020.2\n",
       "0  행정구역(시군구)별    총인구수 (명)   남자인구수 (명)   여자인구수 (명)\n",
       "1          전국  51,829,023  25,841,029  25,987,994\n",
       "2       서울특별시   9,668,465   4,701,723   4,966,742\n",
       "3       부산광역시   3,391,946   1,661,000   1,730,946\n",
       "4       대구광역시   2,418,346   1,193,109   1,225,237"
      ]
     },
     "execution_count": 43,
     "metadata": {},
     "output_type": "execute_result"
    }
   ],
   "source": [
    "df_nationwide_popul = pd.read_csv('./전국인구수.csv')\n",
    "df_nationwide_popul.head()"
   ]
  },
  {
   "cell_type": "code",
   "execution_count": 44,
   "id": "twelve-reply",
   "metadata": {},
   "outputs": [
    {
     "name": "stdout",
     "output_type": "stream",
     "text": [
      "[9668465, 3391946, 2418346, 2942828, 1450062, 1463882, 1136017, 355831, 13427014, 1542840, 1600837, 2121029, 1804104, 1851549, 2639422, 3340216, 674635]\n"
     ]
    }
   ],
   "source": [
    "# region_list = ['서울특별시', '부산광역시', '대구광역시', '인천광역시', '광주광역시', '대전광역시', '울산광역시', '세종특별자치시', '경기도', '강원도', '충청북도', '충청남도','전라북도', '전라남도', '경상북도', '경상남도', '제주특별자치도']\n",
    "nationwide_popul = []\n",
    "\n",
    "df_nationwide_popul.loc[2:, '2020']\n",
    "\n",
    "for i in df_nationwide_popul.loc[2:, '2020']:\n",
    "    nationwide_popul.append(int(i.replace(',', '')))\n",
    "print(nationwide_popul)"
   ]
  },
  {
   "cell_type": "code",
   "execution_count": 51,
   "id": "eleven-program",
   "metadata": {},
   "outputs": [
    {
     "data": {
      "image/png": "[encoded data removed]",
      "text/plain": [
       "<Figure size 504x504 with 1 Axes>"
      ]
     },
     "metadata": {},
     "output_type": "display_data"
    }
   ],
   "source": [
    "plt.figure(figsize=(7, 7))         # 플롯 사이즈 지정\n",
    "plt.scatter(region_hospital1, nationwide_popul) # 산점도\n",
    "plt.xlabel(\"number_of_hospital\")                  # x축 레이블 지정\n",
    "plt.ylabel(\"population\")                   # y축 레이블 지정\n",
    "plt.grid()                           # 플롯에 격자 보이기\n",
    "plt.show()"
   ]
  },
  {
   "cell_type": "code",
   "execution_count": 50,
   "id": "imposed-actor",
   "metadata": {},
   "outputs": [
    {
     "data": {
      "text/plain": [
       "(0.9651803950140836, 3.840528015982344e-10)"
      ]
     },
     "execution_count": 50,
     "metadata": {},
     "output_type": "execute_result"
    }
   ],
   "source": [
    "corr = stats.pearsonr(region_hospital1, nationwide_popul)\n",
    "corr"
   ]
  },
  {
   "cell_type": "code",
   "execution_count": 64,
   "id": "extensive-sample",
   "metadata": {},
   "outputs": [
    {
     "name": "stdout",
     "output_type": "stream",
     "text": [
      "Collecting statsmodelsNote: you may need to restart the kernel to use updated packages.\n",
      "  Downloading statsmodels-0.12.2-cp39-none-win_amd64.whl (9.4 MB)\n",
      "Requirement already satisfied: pandas>=0.21 in c:\\damagejun\\lib\\site-packages (from statsmodels) (1.2.3)\n",
      "Requirement already satisfied: scipy>=1.1 in c:\\damagejun\\lib\\site-packages (from statsmodels) (1.6.2)\n",
      "Requirement already satisfied: numpy>=1.15 in c:\\damagejun\\lib\\site-packages (from statsmodels) (1.20.2+mkl)\n",
      "Collecting patsy>=0.5\n",
      "  Downloading patsy-0.5.1-py2.py3-none-any.whl (231 kB)\n",
      "Requirement already satisfied: python-dateutil>=2.7.3 in c:\\damagejun\\lib\\site-packages (from pandas>=0.21->statsmodels) (2.8.1)\n",
      "Requirement already satisfied: pytz>=2017.3 in c:\\damagejun\\lib\\site-packages (from pandas>=0.21->statsmodels) (2021.1)\n",
      "Requirement already satisfied: six in c:\\damagejun\\lib\\site-packages (from patsy>=0.5->statsmodels) (1.15.0)\n",
      "Installing collected packages: patsy, statsmodels\n",
      "Successfully installed patsy-0.5.1 statsmodels-0.12.2\n",
      "\n"
     ]
    }
   ],
   "source": [
    "pip install statsmodels"
   ]
  },
  {
   "cell_type": "code",
   "execution_count": 63,
   "id": "preliminary-vessel",
   "metadata": {
    "scrolled": true
   },
   "outputs": [
    {
     "name": "stdout",
     "output_type": "stream",
     "text": [
      "Collecting scikit-learnNote: you may need to restart the kernel to use updated packages.\n",
      "\n",
      "  Downloading scikit_learn-0.24.1-cp39-cp39-win_amd64.whl (6.9 MB)\n",
      "Requirement already satisfied: scipy>=0.19.1 in c:\\damagejun\\lib\\site-packages (from scikit-learn) (1.6.2)\n",
      "Collecting threadpoolctl>=2.0.0\n",
      "  Downloading threadpoolctl-2.1.0-py3-none-any.whl (12 kB)\n",
      "Requirement already satisfied: numpy>=1.13.3 in c:\\damagejun\\lib\\site-packages (from scikit-learn) (1.20.2+mkl)\n",
      "Collecting joblib>=0.11\n",
      "  Downloading joblib-1.0.1-py3-none-any.whl (303 kB)\n",
      "Installing collected packages: threadpoolctl, joblib, scikit-learn\n",
      "Successfully installed joblib-1.0.1 scikit-learn-0.24.1 threadpoolctl-2.1.0\n"
     ]
    }
   ],
   "source": [
    "pip install scikit-learn"
   ]
  },
  {
   "cell_type": "code",
   "execution_count": 65,
   "id": "anonymous-resistance",
   "metadata": {},
   "outputs": [],
   "source": [
    "import statsmodels.api as sm\n",
    "import statsmodels.formula.api as smf"
   ]
  },
  {
   "cell_type": "code",
   "execution_count": 216,
   "id": "useful-timeline",
   "metadata": {},
   "outputs": [
    {
     "data": {
      "text/html": [
       "<div>\n",
       "<style scoped>\n",
       "    .dataframe tbody tr th:only-of-type {\n",
       "        vertical-align: middle;\n",
       "    }\n",
       "\n",
       "    .dataframe tbody tr th {\n",
       "        vertical-align: top;\n",
       "    }\n",
       "\n",
       "    .dataframe thead th {\n",
       "        text-align: right;\n",
       "    }\n",
       "</style>\n",
       "<table border=\"1\" class=\"dataframe\">\n",
       "  <thead>\n",
       "    <tr style=\"text-align: right;\">\n",
       "      <th></th>\n",
       "      <th>possible</th>\n",
       "      <th>num_of_hospital</th>\n",
       "      <th>money</th>\n",
       "      <th>apart</th>\n",
       "    </tr>\n",
       "  </thead>\n",
       "  <tbody>\n",
       "    <tr>\n",
       "      <th>12</th>\n",
       "      <td>2851</td>\n",
       "      <td>1804104</td>\n",
       "      <td>18725</td>\n",
       "      <td>222</td>\n",
       "    </tr>\n",
       "    <tr>\n",
       "      <th>13</th>\n",
       "      <td>2577</td>\n",
       "      <td>1851549</td>\n",
       "      <td>18711</td>\n",
       "      <td>143</td>\n",
       "    </tr>\n",
       "    <tr>\n",
       "      <th>14</th>\n",
       "      <td>3334</td>\n",
       "      <td>2639422</td>\n",
       "      <td>18611</td>\n",
       "      <td>140</td>\n",
       "    </tr>\n",
       "    <tr>\n",
       "      <th>15</th>\n",
       "      <td>4122</td>\n",
       "      <td>3340216</td>\n",
       "      <td>18939</td>\n",
       "      <td>318</td>\n",
       "    </tr>\n",
       "    <tr>\n",
       "      <th>16</th>\n",
       "      <td>959</td>\n",
       "      <td>674635</td>\n",
       "      <td>18734</td>\n",
       "      <td>362</td>\n",
       "    </tr>\n",
       "  </tbody>\n",
       "</table>\n",
       "</div>"
      ],
      "text/plain": [
       "    possible  num_of_hospital  money  apart\n",
       "12      2851          1804104  18725    222\n",
       "13      2577          1851549  18711    143\n",
       "14      3334          2639422  18611    140\n",
       "15      4122          3340216  18939    318\n",
       "16       959           674635  18734    362"
      ]
     },
     "execution_count": 216,
     "metadata": {},
     "output_type": "execute_result"
    }
   ],
   "source": [
    "x = np.array([17435,5261, 3828, 3449,2190,2226,1383,397,15873,1877,2101,2699,2851,2577,3334,4122,959])\n",
    "y = np.array([9668465, 3391946, 2418346, 2942828, 1450062, 1463882, 1136017, 355831, 13427014, 1542840, 1600837, 2121029, 1804104, 1851549, 2639422, 3340216, 674635])\n",
    "z = np.array([23440,19680,19210,19332,20532,20498,22550,19789,20482,18997,18823,18955,18725,18711,18611,18939,18734])\n",
    "k = np.array([15865, 4342, 2738, 2770, 2969, 2780, 1073, 750, 1315, 90, 220, 267, 222, 143, 140, 318, 362])\n",
    "body = pd.DataFrame(\n",
    "    {'possible': x,\n",
    "    'num_of_hospital': y,\n",
    "     'money':z,\n",
    "     'apart':k\n",
    "    }\n",
    ")\n",
    "body.tail()"
   ]
  },
  {
   "cell_type": "code",
   "execution_count": 219,
   "id": "sound-haiti",
   "metadata": {},
   "outputs": [
    {
     "data": {
      "text/html": [
       "<table class=\"simpletable\">\n",
       "<caption>OLS Regression Results</caption>\n",
       "<tr>\n",
       "  <th>Dep. Variable:</th>        <td>possible</td>     <th>  R-squared:         </th> <td>   0.952</td>\n",
       "</tr>\n",
       "<tr>\n",
       "  <th>Model:</th>                   <td>OLS</td>       <th>  Adj. R-squared:    </th> <td>   0.945</td>\n",
       "</tr>\n",
       "<tr>\n",
       "  <th>Method:</th>             <td>Least Squares</td>  <th>  F-statistic:       </th> <td>   138.8</td>\n",
       "</tr>\n",
       "<tr>\n",
       "  <th>Date:</th>             <td>Sat, 17 Apr 2021</td> <th>  Prob (F-statistic):</th> <td>5.88e-10</td>\n",
       "</tr>\n",
       "<tr>\n",
       "  <th>Time:</th>                 <td>03:21:21</td>     <th>  Log-Likelihood:    </th> <td> -141.96</td>\n",
       "</tr>\n",
       "<tr>\n",
       "  <th>No. Observations:</th>      <td>    17</td>      <th>  AIC:               </th> <td>   289.9</td>\n",
       "</tr>\n",
       "<tr>\n",
       "  <th>Df Residuals:</th>          <td>    14</td>      <th>  BIC:               </th> <td>   292.4</td>\n",
       "</tr>\n",
       "<tr>\n",
       "  <th>Df Model:</th>              <td>     2</td>      <th>                     </th>     <td> </td>   \n",
       "</tr>\n",
       "<tr>\n",
       "  <th>Covariance Type:</th>      <td>nonrobust</td>    <th>                     </th>     <td> </td>   \n",
       "</tr>\n",
       "</table>\n",
       "<table class=\"simpletable\">\n",
       "<tr>\n",
       "         <td></td>            <th>coef</th>     <th>std err</th>      <th>t</th>      <th>P>|t|</th>  <th>[0.025</th>    <th>0.975]</th>  \n",
       "</tr>\n",
       "<tr>\n",
       "  <th>Intercept</th>       <td>-1.054e+04</td> <td> 4363.000</td> <td>   -2.416</td> <td> 0.030</td> <td>-1.99e+04</td> <td>-1182.168</td>\n",
       "</tr>\n",
       "<tr>\n",
       "  <th>money</th>           <td>    0.5520</td> <td>    0.226</td> <td>    2.440</td> <td> 0.029</td> <td>    0.067</td> <td>    1.037</td>\n",
       "</tr>\n",
       "<tr>\n",
       "  <th>num_of_hospital</th> <td>    0.0013</td> <td>  9.3e-05</td> <td>   13.741</td> <td> 0.000</td> <td>    0.001</td> <td>    0.001</td>\n",
       "</tr>\n",
       "</table>\n",
       "<table class=\"simpletable\">\n",
       "<tr>\n",
       "  <th>Omnibus:</th>       <td> 3.904</td> <th>  Durbin-Watson:     </th> <td>   1.006</td>\n",
       "</tr>\n",
       "<tr>\n",
       "  <th>Prob(Omnibus):</th> <td> 0.142</td> <th>  Jarque-Bera (JB):  </th> <td>   1.833</td>\n",
       "</tr>\n",
       "<tr>\n",
       "  <th>Skew:</th>          <td> 0.186</td> <th>  Prob(JB):          </th> <td>   0.400</td>\n",
       "</tr>\n",
       "<tr>\n",
       "  <th>Kurtosis:</th>      <td> 4.565</td> <th>  Cond. No.          </th> <td>7.13e+07</td>\n",
       "</tr>\n",
       "</table><br/><br/>Notes:<br/>[1] Standard Errors assume that the covariance matrix of the errors is correctly specified.<br/>[2] The condition number is large, 7.13e+07. This might indicate that there are<br/>strong multicollinearity or other numerical problems."
      ],
      "text/plain": [
       "<class 'statsmodels.iolib.summary.Summary'>\n",
       "\"\"\"\n",
       "                            OLS Regression Results                            \n",
       "==============================================================================\n",
       "Dep. Variable:               possible   R-squared:                       0.952\n",
       "Model:                            OLS   Adj. R-squared:                  0.945\n",
       "Method:                 Least Squares   F-statistic:                     138.8\n",
       "Date:                Sat, 17 Apr 2021   Prob (F-statistic):           5.88e-10\n",
       "Time:                        03:21:21   Log-Likelihood:                -141.96\n",
       "No. Observations:                  17   AIC:                             289.9\n",
       "Df Residuals:                      14   BIC:                             292.4\n",
       "Df Model:                           2                                         \n",
       "Covariance Type:            nonrobust                                         \n",
       "===================================================================================\n",
       "                      coef    std err          t      P>|t|      [0.025      0.975]\n",
       "-----------------------------------------------------------------------------------\n",
       "Intercept       -1.054e+04   4363.000     -2.416      0.030   -1.99e+04   -1182.168\n",
       "money               0.5520      0.226      2.440      0.029       0.067       1.037\n",
       "num_of_hospital     0.0013    9.3e-05     13.741      0.000       0.001       0.001\n",
       "==============================================================================\n",
       "Omnibus:                        3.904   Durbin-Watson:                   1.006\n",
       "Prob(Omnibus):                  0.142   Jarque-Bera (JB):                1.833\n",
       "Skew:                           0.186   Prob(JB):                        0.400\n",
       "Kurtosis:                       4.565   Cond. No.                     7.13e+07\n",
       "==============================================================================\n",
       "\n",
       "Notes:\n",
       "[1] Standard Errors assume that the covariance matrix of the errors is correctly specified.\n",
       "[2] The condition number is large, 7.13e+07. This might indicate that there are\n",
       "strong multicollinearity or other numerical problems.\n",
       "\"\"\""
      ]
     },
     "execution_count": 219,
     "metadata": {},
     "output_type": "execute_result"
    }
   ],
   "source": [
    "reg = sm.OLS.from_formula(\"possible ~ money + num_of_hospital\", body).fit()\n",
    "reg.summary()"
   ]
  },
  {
   "cell_type": "code",
   "execution_count": null,
   "id": "built-government",
   "metadata": {},
   "outputs": [],
   "source": []
  },
  {
   "cell_type": "code",
   "execution_count": null,
   "id": "analyzed-maintenance",
   "metadata": {},
   "outputs": [],
   "source": []
  }
 ],
 "metadata": {
  "kernelspec": {
   "display_name": "Python 3",
   "language": "python",
   "name": "python3"
  },
  "language_info": {
   "codemirror_mode": {
    "name": "ipython",
    "version": 3
   },
   "file_extension": ".py",
   "mimetype": "text/x-python",
   "name": "python",
   "nbconvert_exporter": "python",
   "pygments_lexer": "ipython3",
   "version": "3.8.8"
  }
 },
 "nbformat": 4,
 "nbformat_minor": 5
}
