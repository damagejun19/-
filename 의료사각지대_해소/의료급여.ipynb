{
 "cells": [
  {
   "cell_type": "code",
   "execution_count": 73,
   "id": "honey-conspiracy",
   "metadata": {},
   "outputs": [],
   "source": [
    "import pandas as pd\n",
    "import numpy as np\n",
    "import matplotlib as mpl\n",
    "import matplotlib.pyplot as plt\n",
    "import seaborn as sns\n",
    "from matplotlib import rc\n",
    "from matplotlib import pyplot\n",
    "\n",
    "# os x(mac os) 한글 font \n",
    "\n",
    "\n",
    "# 노트북 안에 그래플 그리기 위해 셋팅\n",
    "%matplotlib inline\n",
    "\n",
    "# 그래프를 격자 스타일로 (숫자 범위가 눈에 잘 띄도록 ggplot 스타일 사용.)\n",
    "plt.style.use(\"ggplot\")\n",
    "\n",
    "# 그래프에서 마이너스 폰트 깨지는 문제 해결을 위해\n",
    "mpl.rcParams[\"axes.unicode_minus\"] = False\n",
    "\n",
    "# 경고 문구 무시\n",
    "import warnings\n",
    "warnings.filterwarnings(action='ignore')\n",
    "\n",
    "from matplotlib import font_manager, rc\n",
    "import platform\n",
    "\n",
    "if platform.system() == 'Windows':\n",
    "# 윈도우인 경우\n",
    "    font_name = font_manager.FontProperties(fname=\"c:/Windows/Fonts/malgun.ttf\").get_name()\n",
    "    rc('font', family=font_name)\n",
    "else:    \n",
    "# Mac 인 경우\n",
    "    rc('font', family='AppleGothic')\n",
    "    \n",
    "mpl.rcParams['axes.unicode_minus'] = False  "
   ]
  },
  {
   "cell_type": "code",
   "execution_count": 74,
   "id": "thousand-independence",
   "metadata": {},
   "outputs": [
    {
     "data": {
      "text/html": [
       "<div>\n",
       "<style scoped>\n",
       "    .dataframe tbody tr th:only-of-type {\n",
       "        vertical-align: middle;\n",
       "    }\n",
       "\n",
       "    .dataframe tbody tr th {\n",
       "        vertical-align: top;\n",
       "    }\n",
       "\n",
       "    .dataframe thead th {\n",
       "        text-align: right;\n",
       "    }\n",
       "</style>\n",
       "<table border=\"1\" class=\"dataframe\">\n",
       "  <thead>\n",
       "    <tr style=\"text-align: right;\">\n",
       "      <th></th>\n",
       "      <th>구분별(1)</th>\n",
       "      <th>구분별(2)</th>\n",
       "      <th>성별(1)</th>\n",
       "      <th>2019</th>\n",
       "      <th>2019.1</th>\n",
       "      <th>2019.2</th>\n",
       "      <th>2019.3</th>\n",
       "      <th>2019.4</th>\n",
       "      <th>2019.5</th>\n",
       "      <th>2019.6</th>\n",
       "      <th>...</th>\n",
       "      <th>2019.10</th>\n",
       "      <th>2019.11</th>\n",
       "      <th>2019.12</th>\n",
       "      <th>2019.13</th>\n",
       "      <th>2019.14</th>\n",
       "      <th>2019.15</th>\n",
       "      <th>2019.16</th>\n",
       "      <th>2019.17</th>\n",
       "      <th>2019.18</th>\n",
       "      <th>2019.19</th>\n",
       "    </tr>\n",
       "  </thead>\n",
       "  <tbody>\n",
       "    <tr>\n",
       "      <th>0</th>\n",
       "      <td>구분별(1)</td>\n",
       "      <td>구분별(2)</td>\n",
       "      <td>성별(1)</td>\n",
       "      <td>합계</td>\n",
       "      <td>0세</td>\n",
       "      <td>1 - 4세</td>\n",
       "      <td>5 - 9세</td>\n",
       "      <td>10 - 14세</td>\n",
       "      <td>15 - 19세</td>\n",
       "      <td>20 - 24세</td>\n",
       "      <td>...</td>\n",
       "      <td>40 - 44세</td>\n",
       "      <td>45 - 49세</td>\n",
       "      <td>50 - 54세</td>\n",
       "      <td>55 - 59세</td>\n",
       "      <td>60 - 64세</td>\n",
       "      <td>65 - 69세</td>\n",
       "      <td>70 - 74세</td>\n",
       "      <td>75 - 79세</td>\n",
       "      <td>80 - 84세</td>\n",
       "      <td>85세 이상</td>\n",
       "    </tr>\n",
       "    <tr>\n",
       "      <th>1</th>\n",
       "      <td>합계 (명)</td>\n",
       "      <td>소계</td>\n",
       "      <td>계</td>\n",
       "      <td>1488846</td>\n",
       "      <td>2458</td>\n",
       "      <td>18156</td>\n",
       "      <td>41556</td>\n",
       "      <td>56468</td>\n",
       "      <td>89678</td>\n",
       "      <td>74129</td>\n",
       "      <td>...</td>\n",
       "      <td>57824</td>\n",
       "      <td>98622</td>\n",
       "      <td>125780</td>\n",
       "      <td>145502</td>\n",
       "      <td>146579</td>\n",
       "      <td>125688</td>\n",
       "      <td>117217</td>\n",
       "      <td>116798</td>\n",
       "      <td>94352</td>\n",
       "      <td>86377</td>\n",
       "    </tr>\n",
       "    <tr>\n",
       "      <th>2</th>\n",
       "      <td>합계 (명)</td>\n",
       "      <td>소계</td>\n",
       "      <td>남자</td>\n",
       "      <td>686731</td>\n",
       "      <td>1259</td>\n",
       "      <td>9140</td>\n",
       "      <td>21111</td>\n",
       "      <td>28756</td>\n",
       "      <td>45400</td>\n",
       "      <td>37779</td>\n",
       "      <td>...</td>\n",
       "      <td>25505</td>\n",
       "      <td>46843</td>\n",
       "      <td>67878</td>\n",
       "      <td>85525</td>\n",
       "      <td>82748</td>\n",
       "      <td>62543</td>\n",
       "      <td>49257</td>\n",
       "      <td>40094</td>\n",
       "      <td>24701</td>\n",
       "      <td>15044</td>\n",
       "    </tr>\n",
       "    <tr>\n",
       "      <th>3</th>\n",
       "      <td>합계 (명)</td>\n",
       "      <td>소계</td>\n",
       "      <td>여자</td>\n",
       "      <td>802115</td>\n",
       "      <td>1199</td>\n",
       "      <td>9016</td>\n",
       "      <td>20445</td>\n",
       "      <td>27712</td>\n",
       "      <td>44278</td>\n",
       "      <td>36350</td>\n",
       "      <td>...</td>\n",
       "      <td>32319</td>\n",
       "      <td>51779</td>\n",
       "      <td>57902</td>\n",
       "      <td>59977</td>\n",
       "      <td>63831</td>\n",
       "      <td>63145</td>\n",
       "      <td>67960</td>\n",
       "      <td>76704</td>\n",
       "      <td>69651</td>\n",
       "      <td>71333</td>\n",
       "    </tr>\n",
       "    <tr>\n",
       "      <th>4</th>\n",
       "      <td>가입구분</td>\n",
       "      <td>세대수 (세대)</td>\n",
       "      <td>계</td>\n",
       "      <td>1112118</td>\n",
       "      <td>861</td>\n",
       "      <td>4971</td>\n",
       "      <td>10566</td>\n",
       "      <td>11001</td>\n",
       "      <td>18433</td>\n",
       "      <td>25485</td>\n",
       "      <td>...</td>\n",
       "      <td>46617</td>\n",
       "      <td>83241</td>\n",
       "      <td>109492</td>\n",
       "      <td>129269</td>\n",
       "      <td>131081</td>\n",
       "      <td>110953</td>\n",
       "      <td>102272</td>\n",
       "      <td>103022</td>\n",
       "      <td>85777</td>\n",
       "      <td>81852</td>\n",
       "    </tr>\n",
       "    <tr>\n",
       "      <th>5</th>\n",
       "      <td>가입구분</td>\n",
       "      <td>세대수 (세대)</td>\n",
       "      <td>남자</td>\n",
       "      <td>534605</td>\n",
       "      <td>446</td>\n",
       "      <td>2447</td>\n",
       "      <td>5137</td>\n",
       "      <td>5304</td>\n",
       "      <td>9666</td>\n",
       "      <td>15660</td>\n",
       "      <td>...</td>\n",
       "      <td>21223</td>\n",
       "      <td>41204</td>\n",
       "      <td>62592</td>\n",
       "      <td>81019</td>\n",
       "      <td>79500</td>\n",
       "      <td>60484</td>\n",
       "      <td>47539</td>\n",
       "      <td>38491</td>\n",
       "      <td>23605</td>\n",
       "      <td>14531</td>\n",
       "    </tr>\n",
       "    <tr>\n",
       "      <th>6</th>\n",
       "      <td>가입구분</td>\n",
       "      <td>세대수 (세대)</td>\n",
       "      <td>여자</td>\n",
       "      <td>577513</td>\n",
       "      <td>415</td>\n",
       "      <td>2524</td>\n",
       "      <td>5429</td>\n",
       "      <td>5697</td>\n",
       "      <td>8767</td>\n",
       "      <td>9825</td>\n",
       "      <td>...</td>\n",
       "      <td>25394</td>\n",
       "      <td>42037</td>\n",
       "      <td>46900</td>\n",
       "      <td>48250</td>\n",
       "      <td>51581</td>\n",
       "      <td>50469</td>\n",
       "      <td>54733</td>\n",
       "      <td>64531</td>\n",
       "      <td>62172</td>\n",
       "      <td>67321</td>\n",
       "    </tr>\n",
       "  </tbody>\n",
       "</table>\n",
       "<p>7 rows × 23 columns</p>\n",
       "</div>"
      ],
      "text/plain": [
       "   구분별(1)    구분별(2)  성별(1)     2019 2019.1  2019.2  2019.3    2019.4  \\\n",
       "0  구분별(1)    구분별(2)  성별(1)       합계     0세  1 - 4세  5 - 9세  10 - 14세   \n",
       "1  합계 (명)        소계      계  1488846   2458   18156   41556     56468   \n",
       "2  합계 (명)        소계     남자   686731   1259    9140   21111     28756   \n",
       "3  합계 (명)        소계     여자   802115   1199    9016   20445     27712   \n",
       "4    가입구분  세대수 (세대)      계  1112118    861    4971   10566     11001   \n",
       "5    가입구분  세대수 (세대)     남자   534605    446    2447    5137      5304   \n",
       "6    가입구분  세대수 (세대)     여자   577513    415    2524    5429      5697   \n",
       "\n",
       "     2019.5    2019.6  ...   2019.10   2019.11   2019.12   2019.13   2019.14  \\\n",
       "0  15 - 19세  20 - 24세  ...  40 - 44세  45 - 49세  50 - 54세  55 - 59세  60 - 64세   \n",
       "1     89678     74129  ...     57824     98622    125780    145502    146579   \n",
       "2     45400     37779  ...     25505     46843     67878     85525     82748   \n",
       "3     44278     36350  ...     32319     51779     57902     59977     63831   \n",
       "4     18433     25485  ...     46617     83241    109492    129269    131081   \n",
       "5      9666     15660  ...     21223     41204     62592     81019     79500   \n",
       "6      8767      9825  ...     25394     42037     46900     48250     51581   \n",
       "\n",
       "    2019.15   2019.16   2019.17   2019.18 2019.19  \n",
       "0  65 - 69세  70 - 74세  75 - 79세  80 - 84세  85세 이상  \n",
       "1    125688    117217    116798     94352   86377  \n",
       "2     62543     49257     40094     24701   15044  \n",
       "3     63145     67960     76704     69651   71333  \n",
       "4    110953    102272    103022     85777   81852  \n",
       "5     60484     47539     38491     23605   14531  \n",
       "6     50469     54733     64531     62172   67321  \n",
       "\n",
       "[7 rows x 23 columns]"
      ]
     },
     "execution_count": 74,
     "metadata": {},
     "output_type": "execute_result"
    }
   ],
   "source": [
    "data = pd.read_csv(\"시도별_연령별_성별_적용인구_현황_의료급여.csv\")\n",
    "medical_care = data\n",
    "medical_care.head(7)"
   ]
  },
  {
   "cell_type": "code",
   "execution_count": 75,
   "id": "theoretical-chrome",
   "metadata": {},
   "outputs": [
    {
     "data": {
      "text/plain": [
       "['0세',\n",
       " '1 - 4세',\n",
       " '5 - 9세',\n",
       " '10 - 14세',\n",
       " '15 - 19세',\n",
       " '20 - 24세',\n",
       " '25 - 29세',\n",
       " '30 - 34세',\n",
       " '35 - 39세',\n",
       " '40 - 44세',\n",
       " '45 - 49세',\n",
       " '50 - 54세',\n",
       " '55 - 59세',\n",
       " '60 - 64세',\n",
       " '65 - 69세',\n",
       " '70 - 74세',\n",
       " '75 - 79세',\n",
       " '80 - 84세',\n",
       " '85세 이상']"
      ]
     },
     "execution_count": 75,
     "metadata": {},
     "output_type": "execute_result"
    }
   ],
   "source": [
    "\n",
    "idx = list(medical_care.loc[0, '2019.1':])\n",
    "idx"
   ]
  },
  {
   "cell_type": "code",
   "execution_count": 76,
   "id": "objective-desktop",
   "metadata": {},
   "outputs": [],
   "source": [
    "man_sum  = medical_care.loc[2,'2019.1':]"
   ]
  },
  {
   "cell_type": "code",
   "execution_count": 77,
   "id": "indie-sentence",
   "metadata": {},
   "outputs": [
    {
     "data": {
      "text/plain": [
       "2019.1     1259\n",
       "2019.2     9140\n",
       "2019.3    21111\n",
       "2019.4    28756\n",
       "2019.5    45400\n",
       "Name: 2, dtype: object"
      ]
     },
     "execution_count": 77,
     "metadata": {},
     "output_type": "execute_result"
    }
   ],
   "source": [
    "man_sum.head()"
   ]
  },
  {
   "cell_type": "code",
   "execution_count": 78,
   "id": "transparent-smart",
   "metadata": {},
   "outputs": [
    {
     "name": "stdout",
     "output_type": "stream",
     "text": [
      "[2458, 18156, 41556, 56468, 89678, 74129, 28982, 23542, 39138, 57824, 98622, 125780, 145502, 146579, 125688, 117217, 116798, 94352, 86377]\n"
     ]
    }
   ],
   "source": [
    "all_sum = medical_care.loc[1, '2019.1':]\n",
    "all_sum = list(all_sum)\n",
    "all_sum_list = []\n",
    "for i in all_sum:\n",
    "    all_sum_list.append(int(i))\n",
    "print(all_sum_list)\n"
   ]
  },
  {
   "cell_type": "code",
   "execution_count": 79,
   "id": "vocational-wrestling",
   "metadata": {},
   "outputs": [
    {
     "name": "stdout",
     "output_type": "stream",
     "text": [
      "[1199, 9016, 20445, 27712, 44278, 36350, 13761, 12732, 22021, 32319, 51779, 57902, 59977, 63831, 63145, 67960, 76704, 69651, 71333]\n"
     ]
    }
   ],
   "source": [
    "woman_sum = medical_care.loc[3,'2019.1':]\n",
    "woman_sum.head()\n",
    "woman_sum = list(woman_sum)\n",
    "woman_sum_list = []\n",
    "for i in woman_sum:\n",
    "    woman_sum_list.append(int(i))\n",
    "print(woman_sum_list)"
   ]
  },
  {
   "cell_type": "code",
   "execution_count": 80,
   "id": "parental-privacy",
   "metadata": {},
   "outputs": [
    {
     "name": "stdout",
     "output_type": "stream",
     "text": [
      "[1259, 9140, 21111, 28756, 45400, 37779, 15221, 10810, 17117, 25505, 46843, 67878, 85525, 82748, 62543, 49257, 40094, 24701, 15044]\n"
     ]
    }
   ],
   "source": [
    "man_sum = medical_care.loc[2,'2019.1':]\n",
    "man_sum = list(man_sum)\n",
    "man_sum_list = []\n",
    "for i in man_sum:\n",
    "    man_sum_list.append(int(i))\n",
    "print(man_sum_list)"
   ]
  },
  {
   "cell_type": "code",
   "execution_count": 152,
   "id": "continuous-function",
   "metadata": {},
   "outputs": [
    {
     "data": {
      "image/png": "[encoded data removed]",
      "text/plain": [
       "<Figure size 1296x504 with 1 Axes>"
      ]
     },
     "metadata": {},
     "output_type": "display_data"
    }
   ],
   "source": [
    "w_ = 0.3\n",
    "plt.figure(figsize=(18,7))\n",
    "x = np.arange(len(idx))\n",
    "pyplot.bar(range(len(all_sum_list)), all_sum_list, width=w_, color='firebrick')\n",
    "pyplot.bar([i+w_ for i in range(len(man_sum_list))], man_sum_list, width=w_, color='plum')\n",
    "pyplot.bar([i+2*w_ for i in range(len(woman_sum_list))], woman_sum_list, width=w_, color='tomato')\n",
    "pyplot.title(\"연령대별 성별 의료급여 적용 인구\")\n",
    "pyplot.xticks([i+w_ for i in range(len(man_sum_list))], idx)\n",
    "pyplot.show()"
   ]
  },
  {
   "cell_type": "markdown",
   "id": "assigned-football",
   "metadata": {},
   "source": [
    "## 성별 의료급여 적용 인구   \n",
    "\n",
    "#### 1. 30대 중반까지는 의료급여 적용인구가 줄어들다가 이후 의료급여 적용인구가 증가한다.   \n",
    "\n",
    "#### 2. 남성의 경우 50대 후반 60대 중반까지 의료급여 적용 인구가 꾸준히 상승하다가 이후에는 급격하게 하락한다.   \n",
    "\n",
    "#### 3. 여성의 경우 남성과 다르게 40대 후반부터 꾸준히 의료급여 적용인구가 증가한다."
   ]
  },
  {
   "cell_type": "code",
   "execution_count": 82,
   "id": "young-electric",
   "metadata": {
    "scrolled": true
   },
   "outputs": [
    {
     "name": "stdout",
     "output_type": "stream",
     "text": [
      "[861, 4971, 10566, 11001, 18433, 25485, 12203, 15368, 29654, 46617, 83241, 109492, 129269, 131081, 110953, 102272, 103022, 85777, 81852]\n"
     ]
    }
   ],
   "source": [
    "all_household_sum = list(medical_care.loc[4, '2019.1':])\n",
    "all_household_sum_list = []\n",
    "\n",
    "for i in all_household_sum:\n",
    "    all_household_sum_list.append(int(i))\n",
    "print(all_household_sum_list)"
   ]
  },
  {
   "cell_type": "code",
   "execution_count": 83,
   "id": "relevant-reynolds",
   "metadata": {},
   "outputs": [
    {
     "name": "stdout",
     "output_type": "stream",
     "text": [
      "[446, 2447, 5137, 5304, 9666, 15660, 5662, 6883, 13212, 21223, 41204, 62592, 81019, 79500, 60484, 47539, 38491, 23605, 14531]\n"
     ]
    }
   ],
   "source": [
    "household_man_sum = list(medical_care.loc[5, '2019.1':])\n",
    "household_man_sum_list = []\n",
    "\n",
    "for i in household_man_sum:\n",
    "    household_man_sum_list.append(int(i))\n",
    "print(household_man_sum_list)"
   ]
  },
  {
   "cell_type": "code",
   "execution_count": 84,
   "id": "clinical-accounting",
   "metadata": {},
   "outputs": [
    {
     "name": "stdout",
     "output_type": "stream",
     "text": [
      "[415, 2524, 5429, 5697, 8767, 9825, 6541, 8485, 16442, 25394, 42037, 46900, 48250, 51581, 50469, 54733, 64531, 62172, 67321]\n"
     ]
    }
   ],
   "source": [
    "household_woman_sum = list(medical_care.loc[6, '2019.1':])\n",
    "household_woman_sum_list = []\n",
    "\n",
    "for i in household_woman_sum:\n",
    "    household_woman_sum_list.append(int(i))\n",
    "print(household_woman_sum_list)"
   ]
  },
  {
   "cell_type": "code",
   "execution_count": 85,
   "id": "meaning-removal",
   "metadata": {},
   "outputs": [
    {
     "data": {
      "image/png": "[encoded data removed]",
      "text/plain": [
       "<Figure size 1296x504 with 1 Axes>"
      ]
     },
     "metadata": {},
     "output_type": "display_data"
    }
   ],
   "source": [
    "w_ = 0.3\n",
    "plt.figure(figsize=(18,7))\n",
    "x = np.arange(len(idx))\n",
    "pyplot.bar(range(len(all_household_sum_list)), all_household_sum_list, width=w_, color='firebrick')\n",
    "pyplot.bar([i+w_ for i in range(len(household_man_sum_list))], household_man_sum_list, width=w_, color='plum')\n",
    "pyplot.bar([i+2*w_ for i in range(len(household_woman_sum_list))], household_woman_sum_list, width=w_, color='tomato')\n",
    "pyplot.title(\"의료급여 적용 세대 수\")\n",
    "pyplot.xticks([i+w_ for i in range(len(household_man_sum_list))], idx)\n",
    "pyplot.show()"
   ]
  },
  {
   "cell_type": "markdown",
   "id": "sought-smith",
   "metadata": {},
   "source": [
    "## 의료급여 적용 세대 수\n",
    "#### 1. 20대 후반이후 약간씩 증가하다가 40대 후반 이후 급격하게 의료급여 적용 세대 수가 증가한다.\n",
    "#### 2. 의료급여 적용 세대 수 역시 성별 의료급여 적용 인원과 같이 50대 중반 부터 60대 중반에 최고조에 이른다.\n",
    "#### 3. 여성의 경우 성별 의료급여 적용 인원과 같이 40대 후반이후 꾸준하게 증가한다."
   ]
  },
  {
   "cell_type": "code",
   "execution_count": 86,
   "id": "outstanding-variable",
   "metadata": {},
   "outputs": [
    {
     "name": "stdout",
     "output_type": "stream",
     "text": [
      "[1597, 13185, 30990, 45467, 71245, 48644, 16779, 8174, 9484, 11207, 15381, 16288, 16233, 15498, 14735, 14945, 13776, 8575, 4525]\n"
     ]
    }
   ],
   "source": [
    "all_dependents_sum = medical_care.loc[7, '2019.1':]\n",
    "all_dependents_sum_list = []\n",
    "for i in all_dependents_sum:\n",
    "    all_dependents_sum_list.append(int(i))\n",
    "print(all_dependents_sum_list)"
   ]
  },
  {
   "cell_type": "code",
   "execution_count": 87,
   "id": "competitive-nicholas",
   "metadata": {},
   "outputs": [
    {
     "name": "stdout",
     "output_type": "stream",
     "text": [
      "[813, 6693, 15974, 23452, 35734, 22119, 9559, 3927, 3905, 4282, 5639, 5286, 4506, 3248, 2059, 1718, 1603, 1096, 513]\n"
     ]
    }
   ],
   "source": [
    "dependents_man_sum = medical_care.loc[8, '2019.1':]\n",
    "dependents_man_sum_list = []\n",
    "for i in dependents_man_sum:\n",
    "    dependents_man_sum_list.append(int(i))\n",
    "print(dependents_man_sum_list)"
   ]
  },
  {
   "cell_type": "code",
   "execution_count": 88,
   "id": "understanding-string",
   "metadata": {},
   "outputs": [
    {
     "name": "stdout",
     "output_type": "stream",
     "text": [
      "[784, 6492, 15016, 22015, 35511, 26525, 7220, 4247, 5579, 6925, 9742, 11002, 11727, 12250, 12676, 13227, 12173, 7479, 4012]\n"
     ]
    }
   ],
   "source": [
    "dependents_woman_sum = medical_care.loc[9, '2019.1':]\n",
    "dependents_woman_sum_list = []\n",
    "for i in dependents_woman_sum:\n",
    "    dependents_woman_sum_list.append(int(i))\n",
    "print(dependents_woman_sum_list)"
   ]
  },
  {
   "cell_type": "code",
   "execution_count": 89,
   "id": "seeing-decision",
   "metadata": {
    "scrolled": false
   },
   "outputs": [
    {
     "data": {
      "image/png": "[encoded data removed]",
      "text/plain": [
       "<Figure size 1296x504 with 1 Axes>"
      ]
     },
     "metadata": {},
     "output_type": "display_data"
    }
   ],
   "source": [
    "w_ = 0.3\n",
    "plt.figure(figsize=(18,7))\n",
    "x = np.arange(len(idx))\n",
    "pyplot.bar(range(len(all_dependents_sum_list)), all_dependents_sum_list, width=w_, color='firebrick')\n",
    "pyplot.bar([i+w_ for i in range(len(dependents_man_sum_list))], dependents_man_sum_list, width=w_, color='plum')\n",
    "pyplot.bar([i+2*w_ for i in range(len(dependents_woman_sum_list))], dependents_woman_sum_list, width=w_, color='tomato')\n",
    "pyplot.title(\"성별 부양가족 수\")\n",
    "pyplot.xticks([i+w_ for i in range(len(dependents_man_sum_list))], idx)\n",
    "pyplot.show()"
   ]
  },
  {
   "cell_type": "markdown",
   "id": "headed-empty",
   "metadata": {},
   "source": [
    "## 성별 부양가족 수\n",
    "#### 1. 성별 부양가족 수는 청소년기까지 증가하다가 성인이 된이후에 급격하게 감소한다.\n",
    "#### 2. 남성의 경우 비슷한 수치를 보이다가 50대 중후반이 되면서 부양가족 수가 꾸준히 감소한다.\n",
    "#### 3. 여성의 경우 30대 후반 이후 부양가족 수가 지속적으로 증가한다."
   ]
  },
  {
   "cell_type": "code",
   "execution_count": 90,
   "id": "bottom-victory",
   "metadata": {},
   "outputs": [
    {
     "name": "stdout",
     "output_type": "stream",
     "text": [
      "250669\n",
      "[250669, 138667, 96969, 95978, 63430, 48089, 19640, 4129, 243001, 58383, 48215, 55753, 85041, 72205, 94941, 94078, 19658]\n",
      "['서울', '부산', '대구', '인천', '광주', '대전', '울산', '세종', '경기', '강원', '충북', '충남', '전북', '전남', '경북', '경남', '제주']\n",
      "17 17\n"
     ]
    }
   ],
   "source": [
    "area = []\n",
    "print(medical_care.loc[10, '2019'])\n",
    "\n",
    "for i in range(10, 61, 3):\n",
    "    area.append(int(medical_care.loc[i, '2019']))\n",
    "print(area)\n",
    "idx2 = ['서울', '부산', '대구', '인천', '광주', '대전', '울산', '세종', '경기', '강원', '충북', '충남', '전북', '전남', '경북', '경남', '제주']\n",
    "print(idx2)\n",
    "print(len(area), len(idx2))"
   ]
  },
  {
   "cell_type": "code",
   "execution_count": 91,
   "id": "bound-grass",
   "metadata": {},
   "outputs": [
    {
     "data": {
      "image/png": "[encoded data removed]",
      "text/plain": [
       "<Figure size 1296x720 with 1 Axes>"
      ]
     },
     "metadata": {},
     "output_type": "display_data"
    }
   ],
   "source": [
    "plt.figure(figsize=(18,10))\n",
    "x = np.arange(len(idx2))\n",
    "years = idx2\n",
    "values = area\n",
    "\n",
    "plt.bar(x, values)\n",
    "plt.xticks(x, years)\n",
    "plt.title(\"지역별 의료 급여 적용인구\")\n",
    "plt.show()"
   ]
  },
  {
   "cell_type": "markdown",
   "id": "fitting-honey",
   "metadata": {},
   "source": [
    "## 지역별 의료급여 적용인구\n",
    "#### 1. 서울, 경기 권의 의료급여 적용 인구가 가장 많은 것으로 파악된다.\n",
    "#### 2. 이후 부산, 대구, 인천, 경북, 경남 순으로 나타난다.\n",
    "#### 3. 울산, 대전, 세종은 광역시와 신도시임에도 불구하고 상대적으로 의료급여 적용인구 수가 적다."
   ]
  },
  {
   "cell_type": "code",
   "execution_count": 92,
   "id": "buried-trash",
   "metadata": {},
   "outputs": [
    {
     "name": "stdout",
     "output_type": "stream",
     "text": [
      "[118707, 64021, 43367, 43686, 29070, 22163, 9186, 1956, 110372, 26935, 22336, 25852, 38855, 34221, 43132, 43794, 9078]\n"
     ]
    }
   ],
   "source": [
    "area_man_sum=[]\n",
    "\n",
    "for i in range(11, 62, 3):\n",
    "    area_man_sum.append(int(medical_care.loc[i, '2019']))\n",
    "print(area_man_sum)"
   ]
  },
  {
   "cell_type": "code",
   "execution_count": 93,
   "id": "framed-coffee",
   "metadata": {},
   "outputs": [
    {
     "name": "stdout",
     "output_type": "stream",
     "text": [
      "[131962, 74646, 53602, 52292, 34360, 25926, 10454, 2173, 132629, 31448, 25879, 29901, 46186, 37984, 51809, 50284, 10580]\n"
     ]
    }
   ],
   "source": [
    "area_woman_sum = []\n",
    "for i in range(12, 63, 3):\n",
    "    area_woman_sum.append(int(medical_care.loc[i, '2019']))\n",
    "print(area_woman_sum)"
   ]
  },
  {
   "cell_type": "code",
   "execution_count": 94,
   "id": "absent-register",
   "metadata": {},
   "outputs": [
    {
     "data": {
      "image/png": "[encoded data removed]",
      "text/plain": [
       "<Figure size 1080x504 with 1 Axes>"
      ]
     },
     "metadata": {},
     "output_type": "display_data"
    }
   ],
   "source": [
    "w_ = 0.3\n",
    "plt.figure(figsize=(15,7))\n",
    "x = np.arange(len(idx2))\n",
    "\n",
    "pyplot.bar([i+w_ for i in range(len(area_man_sum))], area_man_sum, color='b', width=w_)\n",
    "pyplot.bar([i+2*w_ for i in range(len(area_woman_sum))], area_woman_sum, color='r', width=w_)\n",
    "pyplot.title(\"지역 별 성별 의료급여자 수\")\n",
    "pyplot.xticks(x, idx2)\n",
    "pyplot.show()"
   ]
  },
  {
   "cell_type": "markdown",
   "id": "professional-windows",
   "metadata": {},
   "source": [
    "## 지역 별 성별 의료급여자 수\n",
    "#### 1. 거의 모든 도시에서 여성의 의료급여자수가 높게 나타난다."
   ]
  },
  {
   "cell_type": "code",
   "execution_count": 95,
   "id": "curious-sentence",
   "metadata": {},
   "outputs": [
    {
     "name": "stdout",
     "output_type": "stream",
     "text": [
      "1488846\n"
     ]
    }
   ],
   "source": [
    "print(sum(area))"
   ]
  },
  {
   "cell_type": "code",
   "execution_count": 96,
   "id": "fluid-leadership",
   "metadata": {},
   "outputs": [
    {
     "name": "stdout",
     "output_type": "stream",
     "text": [
      "46.13 53.87\n"
     ]
    }
   ],
   "source": [
    "man_ratio = round(sum(man_sum_list)/sum(area)*100, 2)\n",
    "woman_ratio = round(sum(woman_sum_list)/sum(area)*100, 2)\n",
    "print(man_ratio, woman_ratio)\n",
    "idx3 = ['남', '여']"
   ]
  },
  {
   "cell_type": "code",
   "execution_count": 97,
   "id": "comfortable-hardwood",
   "metadata": {},
   "outputs": [
    {
     "data": {
      "image/png": "[encoded data removed]",
      "text/plain": [
       "<Figure size 1080x504 with 1 Axes>"
      ]
     },
     "metadata": {},
     "output_type": "display_data"
    }
   ],
   "source": [
    "w_ = 0.3\n",
    "plt.figure(figsize=(15,7))\n",
    "x = np.arange(2)\n",
    "\n",
    "pyplot.bar([i+w_ for i in range(1)], man_ratio, color='b', width=w_)\n",
    "pyplot.bar([i+2*w_ for i in range(1)], woman_ratio, color='r', width=w_)\n",
    "pyplot.title(\"성별 의료급여자 비율\")\n",
    "pyplot.xticks(x, idx3)\n",
    "pyplot.show()"
   ]
  },
  {
   "cell_type": "markdown",
   "id": "listed-desert",
   "metadata": {},
   "source": [
    "## 여성의 의료급여 적용 비율이 상대적으로 더 높다."
   ]
  },
  {
   "cell_type": "code",
   "execution_count": 98,
   "id": "fantastic-power",
   "metadata": {},
   "outputs": [
    {
     "name": "stdout",
     "output_type": "stream",
     "text": [
      "[16.84, 9.31, 6.51, 6.45, 4.26, 3.23, 1.32, 0.28, 16.32, 3.92, 3.24, 3.74, 5.71, 4.85, 6.38, 6.32, 1.32]\n"
     ]
    }
   ],
   "source": [
    "area_ratio = []\n",
    "\n",
    "for i in range(len(idx2)):\n",
    "    area_ratio.append(round(area[i]/sum(area)*100,2))\n",
    "print(area_ratio)"
   ]
  },
  {
   "cell_type": "code",
   "execution_count": 99,
   "id": "creative-judge",
   "metadata": {},
   "outputs": [
    {
     "data": {
      "image/png": "[encoded data removed]",
      "text/plain": [
       "<Figure size 1080x504 with 1 Axes>"
      ]
     },
     "metadata": {},
     "output_type": "display_data"
    }
   ],
   "source": [
    "w_ = 0.3\n",
    "plt.figure(figsize=(15,7))\n",
    "x = np.arange(len(idx2))\n",
    "pyplot.bar([i+w_ for i in range(len(area_ratio))], area_ratio, width=w_)\n",
    "pyplot.title(\"지역별 의료급여 수급 비율\")\n",
    "pyplot.xticks(x, idx2)\n",
    "pyplot.show()"
   ]
  },
  {
   "cell_type": "code",
   "execution_count": 100,
   "id": "respected-browser",
   "metadata": {},
   "outputs": [],
   "source": [
    "population_data = pd.read_csv('./행정구역_시군구_별__성별_인구수_20210331235723.csv')"
   ]
  },
  {
   "cell_type": "code",
   "execution_count": 101,
   "id": "flexible-weight",
   "metadata": {},
   "outputs": [],
   "source": [
    "population = population_data"
   ]
  },
  {
   "cell_type": "code",
   "execution_count": 102,
   "id": "metallic-worcester",
   "metadata": {},
   "outputs": [
    {
     "data": {
      "text/html": [
       "<div>\n",
       "<style scoped>\n",
       "    .dataframe tbody tr th:only-of-type {\n",
       "        vertical-align: middle;\n",
       "    }\n",
       "\n",
       "    .dataframe tbody tr th {\n",
       "        vertical-align: top;\n",
       "    }\n",
       "\n",
       "    .dataframe thead th {\n",
       "        text-align: right;\n",
       "    }\n",
       "</style>\n",
       "<table border=\"1\" class=\"dataframe\">\n",
       "  <thead>\n",
       "    <tr style=\"text-align: right;\">\n",
       "      <th></th>\n",
       "      <th>행정구역(시군구)별</th>\n",
       "      <th>2019. 12</th>\n",
       "      <th>2019. 12.1</th>\n",
       "      <th>2019. 12.2</th>\n",
       "      <th>2019</th>\n",
       "      <th>2019.1</th>\n",
       "      <th>2019.2</th>\n",
       "    </tr>\n",
       "  </thead>\n",
       "  <tbody>\n",
       "    <tr>\n",
       "      <th>0</th>\n",
       "      <td>행정구역(시군구)별</td>\n",
       "      <td>총인구수 (명)</td>\n",
       "      <td>남자인구수 (명)</td>\n",
       "      <td>여자인구수 (명)</td>\n",
       "      <td>총인구수 (명)</td>\n",
       "      <td>남자인구수 (명)</td>\n",
       "      <td>여자인구수 (명)</td>\n",
       "    </tr>\n",
       "    <tr>\n",
       "      <th>1</th>\n",
       "      <td>전국</td>\n",
       "      <td>51849861</td>\n",
       "      <td>25864816</td>\n",
       "      <td>25985045</td>\n",
       "      <td>51849861</td>\n",
       "      <td>25864816</td>\n",
       "      <td>25985045</td>\n",
       "    </tr>\n",
       "    <tr>\n",
       "      <th>2</th>\n",
       "      <td>서울특별시</td>\n",
       "      <td>9729107</td>\n",
       "      <td>4744059</td>\n",
       "      <td>4985048</td>\n",
       "      <td>9729107</td>\n",
       "      <td>4744059</td>\n",
       "      <td>4985048</td>\n",
       "    </tr>\n",
       "    <tr>\n",
       "      <th>3</th>\n",
       "      <td>부산광역시</td>\n",
       "      <td>3413841</td>\n",
       "      <td>1675417</td>\n",
       "      <td>1738424</td>\n",
       "      <td>3413841</td>\n",
       "      <td>1675417</td>\n",
       "      <td>1738424</td>\n",
       "    </tr>\n",
       "    <tr>\n",
       "      <th>4</th>\n",
       "      <td>대구광역시</td>\n",
       "      <td>2438031</td>\n",
       "      <td>1205286</td>\n",
       "      <td>1232745</td>\n",
       "      <td>2438031</td>\n",
       "      <td>1205286</td>\n",
       "      <td>1232745</td>\n",
       "    </tr>\n",
       "    <tr>\n",
       "      <th>5</th>\n",
       "      <td>인천광역시</td>\n",
       "      <td>2957026</td>\n",
       "      <td>1482249</td>\n",
       "      <td>1474777</td>\n",
       "      <td>2957026</td>\n",
       "      <td>1482249</td>\n",
       "      <td>1474777</td>\n",
       "    </tr>\n",
       "    <tr>\n",
       "      <th>6</th>\n",
       "      <td>광주광역시</td>\n",
       "      <td>1456468</td>\n",
       "      <td>720740</td>\n",
       "      <td>735728</td>\n",
       "      <td>1456468</td>\n",
       "      <td>720740</td>\n",
       "      <td>735728</td>\n",
       "    </tr>\n",
       "    <tr>\n",
       "      <th>7</th>\n",
       "      <td>대전광역시</td>\n",
       "      <td>1474870</td>\n",
       "      <td>736607</td>\n",
       "      <td>738263</td>\n",
       "      <td>1474870</td>\n",
       "      <td>736607</td>\n",
       "      <td>738263</td>\n",
       "    </tr>\n",
       "    <tr>\n",
       "      <th>8</th>\n",
       "      <td>울산광역시</td>\n",
       "      <td>1148019</td>\n",
       "      <td>589712</td>\n",
       "      <td>558307</td>\n",
       "      <td>1148019</td>\n",
       "      <td>589712</td>\n",
       "      <td>558307</td>\n",
       "    </tr>\n",
       "    <tr>\n",
       "      <th>9</th>\n",
       "      <td>세종특별자치시</td>\n",
       "      <td>340575</td>\n",
       "      <td>169845</td>\n",
       "      <td>170730</td>\n",
       "      <td>340575</td>\n",
       "      <td>169845</td>\n",
       "      <td>170730</td>\n",
       "    </tr>\n",
       "    <tr>\n",
       "      <th>10</th>\n",
       "      <td>경기도</td>\n",
       "      <td>13239666</td>\n",
       "      <td>6659995</td>\n",
       "      <td>6579671</td>\n",
       "      <td>13239666</td>\n",
       "      <td>6659995</td>\n",
       "      <td>6579671</td>\n",
       "    </tr>\n",
       "    <tr>\n",
       "      <th>11</th>\n",
       "      <td>강원도</td>\n",
       "      <td>1541502</td>\n",
       "      <td>775386</td>\n",
       "      <td>766116</td>\n",
       "      <td>1541502</td>\n",
       "      <td>775386</td>\n",
       "      <td>766116</td>\n",
       "    </tr>\n",
       "    <tr>\n",
       "      <th>12</th>\n",
       "      <td>충청북도</td>\n",
       "      <td>1600007</td>\n",
       "      <td>810384</td>\n",
       "      <td>789623</td>\n",
       "      <td>1600007</td>\n",
       "      <td>810384</td>\n",
       "      <td>789623</td>\n",
       "    </tr>\n",
       "    <tr>\n",
       "      <th>13</th>\n",
       "      <td>충청남도</td>\n",
       "      <td>2123709</td>\n",
       "      <td>1081938</td>\n",
       "      <td>1041771</td>\n",
       "      <td>2123709</td>\n",
       "      <td>1081938</td>\n",
       "      <td>1041771</td>\n",
       "    </tr>\n",
       "    <tr>\n",
       "      <th>14</th>\n",
       "      <td>전라북도</td>\n",
       "      <td>1818917</td>\n",
       "      <td>904110</td>\n",
       "      <td>914807</td>\n",
       "      <td>1818917</td>\n",
       "      <td>904110</td>\n",
       "      <td>914807</td>\n",
       "    </tr>\n",
       "    <tr>\n",
       "      <th>15</th>\n",
       "      <td>전라남도</td>\n",
       "      <td>1868745</td>\n",
       "      <td>937674</td>\n",
       "      <td>931071</td>\n",
       "      <td>1868745</td>\n",
       "      <td>937674</td>\n",
       "      <td>931071</td>\n",
       "    </tr>\n",
       "    <tr>\n",
       "      <th>16</th>\n",
       "      <td>경상북도</td>\n",
       "      <td>2665836</td>\n",
       "      <td>1342037</td>\n",
       "      <td>1323799</td>\n",
       "      <td>2665836</td>\n",
       "      <td>1342037</td>\n",
       "      <td>1323799</td>\n",
       "    </tr>\n",
       "    <tr>\n",
       "      <th>17</th>\n",
       "      <td>경상남도</td>\n",
       "      <td>3362553</td>\n",
       "      <td>1692032</td>\n",
       "      <td>1670521</td>\n",
       "      <td>3362553</td>\n",
       "      <td>1692032</td>\n",
       "      <td>1670521</td>\n",
       "    </tr>\n",
       "    <tr>\n",
       "      <th>18</th>\n",
       "      <td>제주특별자치도</td>\n",
       "      <td>670989</td>\n",
       "      <td>337345</td>\n",
       "      <td>333644</td>\n",
       "      <td>670989</td>\n",
       "      <td>337345</td>\n",
       "      <td>333644</td>\n",
       "    </tr>\n",
       "  </tbody>\n",
       "</table>\n",
       "</div>"
      ],
      "text/plain": [
       "    행정구역(시군구)별  2019. 12 2019. 12.1 2019. 12.2      2019     2019.1     2019.2\n",
       "0   행정구역(시군구)별  총인구수 (명)  남자인구수 (명)  여자인구수 (명)  총인구수 (명)  남자인구수 (명)  여자인구수 (명)\n",
       "1           전국  51849861   25864816   25985045  51849861   25864816   25985045\n",
       "2        서울특별시   9729107    4744059    4985048   9729107    4744059    4985048\n",
       "3        부산광역시   3413841    1675417    1738424   3413841    1675417    1738424\n",
       "4        대구광역시   2438031    1205286    1232745   2438031    1205286    1232745\n",
       "5        인천광역시   2957026    1482249    1474777   2957026    1482249    1474777\n",
       "6        광주광역시   1456468     720740     735728   1456468     720740     735728\n",
       "7        대전광역시   1474870     736607     738263   1474870     736607     738263\n",
       "8        울산광역시   1148019     589712     558307   1148019     589712     558307\n",
       "9      세종특별자치시    340575     169845     170730    340575     169845     170730\n",
       "10         경기도  13239666    6659995    6579671  13239666    6659995    6579671\n",
       "11         강원도   1541502     775386     766116   1541502     775386     766116\n",
       "12        충청북도   1600007     810384     789623   1600007     810384     789623\n",
       "13        충청남도   2123709    1081938    1041771   2123709    1081938    1041771\n",
       "14        전라북도   1818917     904110     914807   1818917     904110     914807\n",
       "15        전라남도   1868745     937674     931071   1868745     937674     931071\n",
       "16        경상북도   2665836    1342037    1323799   2665836    1342037    1323799\n",
       "17        경상남도   3362553    1692032    1670521   3362553    1692032    1670521\n",
       "18     제주특별자치도    670989     337345     333644    670989     337345     333644"
      ]
     },
     "execution_count": 102,
     "metadata": {},
     "output_type": "execute_result"
    }
   ],
   "source": [
    "population"
   ]
  },
  {
   "cell_type": "code",
   "execution_count": 103,
   "id": "fabulous-trash",
   "metadata": {},
   "outputs": [
    {
     "data": {
      "text/plain": [
       "Index(['행정구역(시군구)별', '2019. 12', '2019. 12.1', '2019. 12.2', '2019', '2019.1',\n",
       "       '2019.2'],\n",
       "      dtype='object')"
      ]
     },
     "execution_count": 103,
     "metadata": {},
     "output_type": "execute_result"
    }
   ],
   "source": [
    "population.columns"
   ]
  },
  {
   "cell_type": "code",
   "execution_count": 104,
   "id": "unavailable-aruba",
   "metadata": {},
   "outputs": [
    {
     "name": "stdout",
     "output_type": "stream",
     "text": [
      "    2019. 12 2019. 12.1 2019. 12.2\n",
      "2    9729107    4744059    4985048\n",
      "3    3413841    1675417    1738424\n",
      "4    2438031    1205286    1232745\n",
      "5    2957026    1482249    1474777\n",
      "6    1456468     720740     735728\n",
      "7    1474870     736607     738263\n",
      "8    1148019     589712     558307\n",
      "9     340575     169845     170730\n",
      "10  13239666    6659995    6579671\n",
      "11   1541502     775386     766116\n",
      "12   1600007     810384     789623\n",
      "13   2123709    1081938    1041771\n",
      "14   1818917     904110     914807\n",
      "15   1868745     937674     931071\n",
      "16   2665836    1342037    1323799\n",
      "17   3362553    1692032    1670521\n",
      "18    670989     337345     333644\n"
     ]
    }
   ],
   "source": [
    "print(population.loc[2:, '2019. 12':'2019. 12.2'])"
   ]
  },
  {
   "cell_type": "code",
   "execution_count": 105,
   "id": "circular-fancy",
   "metadata": {},
   "outputs": [],
   "source": [
    "all_population = list(population.loc[2:, '2019. 12'].astype('int64'))"
   ]
  },
  {
   "cell_type": "code",
   "execution_count": 106,
   "id": "confident-orchestra",
   "metadata": {},
   "outputs": [
    {
     "name": "stdout",
     "output_type": "stream",
     "text": [
      "[9729107, 3413841, 2438031, 2957026, 1456468, 1474870, 1148019, 340575, 13239666, 1541502, 1600007, 2123709, 1818917, 1868745, 2665836, 3362553, 670989] 17\n"
     ]
    }
   ],
   "source": [
    "print(all_population, len(all_population))"
   ]
  },
  {
   "cell_type": "code",
   "execution_count": 107,
   "id": "shaped-russia",
   "metadata": {},
   "outputs": [
    {
     "name": "stdout",
     "output_type": "stream",
     "text": [
      "[2.57648518 4.06190564 3.97734893 3.24576111 4.3550562  3.26055856\n",
      " 1.71077308 1.21236145 1.83540129 3.78740994 3.01342432 2.62526551\n",
      " 4.67536452 3.86382305 3.56139688 2.79781464 2.92970526]\n",
      "[2.5764851799862, 4.061905636495665, 3.977348934447511, 3.2457611126855155, 4.355056204461753, 3.2605585577033906, 1.7107730795396243, 1.2123614475519342, 1.835401285802829, 3.7874099417321547, 3.0134243162686163, 2.625265514248892, 4.675364516357811, 3.8638230470181862, 3.5613968751266016, 2.7978146366763585, 2.9297052559728995]\n"
     ]
    }
   ],
   "source": [
    "print(np.array(area)/np.array(all_population)*100)\n",
    "area_medical_ratio = list(np.array(area)/np.array(all_population)*100)\n",
    "print(area_medical_ratio)"
   ]
  },
  {
   "cell_type": "code",
   "execution_count": 108,
   "id": "through-october",
   "metadata": {},
   "outputs": [
    {
     "data": {
      "image/png": "[encoded data removed]",
      "text/plain": [
       "<Figure size 1080x576 with 1 Axes>"
      ]
     },
     "metadata": {},
     "output_type": "display_data"
    }
   ],
   "source": [
    "plt.figure(figsize=(15, 8))\n",
    "x = np.arange(len(idx2))\n",
    "years = idx2\n",
    "values = area_medical_ratio\n",
    "\n",
    "plt.bar(x, values)\n",
    "plt.xticks(x, years)\n",
    "plt.title(\"지역별 인구대비 의료급여 적용인구 비율\")\n",
    "plt.show()"
   ]
  },
  {
   "cell_type": "markdown",
   "id": "behind-coaching",
   "metadata": {},
   "source": [
    "## 지역별 인구대비 의료급여 적용인구 비율\n",
    "\n",
    "### 서울과 경기가 다른 시도에 비해 의료급여 적용인구 비율이 낮다는 것을 알 수 있다."
   ]
  },
  {
   "cell_type": "code",
   "execution_count": 109,
   "id": "recent-association",
   "metadata": {},
   "outputs": [
    {
     "data": {
      "text/html": [
       "<div>\n",
       "<style scoped>\n",
       "    .dataframe tbody tr th:only-of-type {\n",
       "        vertical-align: middle;\n",
       "    }\n",
       "\n",
       "    .dataframe tbody tr th {\n",
       "        vertical-align: top;\n",
       "    }\n",
       "\n",
       "    .dataframe thead th {\n",
       "        text-align: right;\n",
       "    }\n",
       "</style>\n",
       "<table border=\"1\" class=\"dataframe\">\n",
       "  <thead>\n",
       "    <tr style=\"text-align: right;\">\n",
       "      <th></th>\n",
       "      <th>행정구역별(시군구)</th>\n",
       "      <th>연령별</th>\n",
       "      <th>2016</th>\n",
       "      <th>2016.1</th>\n",
       "      <th>2016.2</th>\n",
       "      <th>2016.3</th>\n",
       "    </tr>\n",
       "  </thead>\n",
       "  <tbody>\n",
       "    <tr>\n",
       "      <th>0</th>\n",
       "      <td>행정구역별(시군구)</td>\n",
       "      <td>연령별</td>\n",
       "      <td>인구(내국인) (명)</td>\n",
       "      <td>남자 (명)</td>\n",
       "      <td>여자 (명)</td>\n",
       "      <td>성비</td>\n",
       "    </tr>\n",
       "    <tr>\n",
       "      <th>1</th>\n",
       "      <td>서울특별시</td>\n",
       "      <td>합계</td>\n",
       "      <td>9470339</td>\n",
       "      <td>4636374</td>\n",
       "      <td>4833965</td>\n",
       "      <td>95.9</td>\n",
       "    </tr>\n",
       "    <tr>\n",
       "      <th>2</th>\n",
       "      <td>서울특별시</td>\n",
       "      <td>0~4세</td>\n",
       "      <td>371239</td>\n",
       "      <td>190370</td>\n",
       "      <td>180869</td>\n",
       "      <td>105.3</td>\n",
       "    </tr>\n",
       "    <tr>\n",
       "      <th>3</th>\n",
       "      <td>서울특별시</td>\n",
       "      <td>5~9세</td>\n",
       "      <td>365059</td>\n",
       "      <td>187265</td>\n",
       "      <td>177794</td>\n",
       "      <td>105.3</td>\n",
       "    </tr>\n",
       "    <tr>\n",
       "      <th>4</th>\n",
       "      <td>서울특별시</td>\n",
       "      <td>10~14세</td>\n",
       "      <td>376506</td>\n",
       "      <td>194431</td>\n",
       "      <td>182075</td>\n",
       "      <td>106.8</td>\n",
       "    </tr>\n",
       "  </tbody>\n",
       "</table>\n",
       "</div>"
      ],
      "text/plain": [
       "   행정구역별(시군구)     연령별         2016   2016.1   2016.2 2016.3\n",
       "0  행정구역별(시군구)     연령별  인구(내국인) (명)   남자 (명)   여자 (명)     성비\n",
       "1       서울특별시      합계      9470339  4636374  4833965   95.9\n",
       "2       서울특별시    0~4세       371239   190370   180869  105.3\n",
       "3       서울특별시    5~9세       365059   187265   177794  105.3\n",
       "4       서울특별시  10~14세       376506   194431   182075  106.8"
      ]
     },
     "execution_count": 109,
     "metadata": {},
     "output_type": "execute_result"
    }
   ],
   "source": [
    "by_age_data = pd.read_csv('./연령_및_성별_인구__시군구.csv')\n",
    "by_age_population = by_age_data\n",
    "by_age_population.head()"
   ]
  },
  {
   "cell_type": "code",
   "execution_count": 110,
   "id": "color-estonia",
   "metadata": {},
   "outputs": [
    {
     "name": "stdout",
     "output_type": "stream",
     "text": [
      "9470339\n"
     ]
    }
   ],
   "source": [
    "print(by_age_population.loc[1, '2016'])"
   ]
  },
  {
   "cell_type": "code",
   "execution_count": 111,
   "id": "available-mozambique",
   "metadata": {},
   "outputs": [
    {
     "name": "stdout",
     "output_type": "stream",
     "text": [
      "12    734368\n",
      "13    763943\n",
      "14    598732\n",
      "15    435313\n",
      "16    336992\n",
      "17    240627\n",
      "18    132351\n",
      "19     84082\n",
      "Name: 2016, dtype: object\n"
     ]
    }
   ],
   "source": [
    "print(by_age_population.loc[12:19, '2016'])"
   ]
  },
  {
   "cell_type": "code",
   "execution_count": 112,
   "id": "stuck-jason",
   "metadata": {},
   "outputs": [
    {
     "name": "stdout",
     "output_type": "stream",
     "text": [
      "9470339\n"
     ]
    }
   ],
   "source": [
    "over_fifty_ratio = []\n",
    "area_over_fifty = []\n",
    "seoul_population = int(by_age_population.loc[1, '2016'])\n",
    "print(seoul_population)"
   ]
  },
  {
   "cell_type": "code",
   "execution_count": 113,
   "id": "sought-boston",
   "metadata": {},
   "outputs": [
    {
     "name": "stdout",
     "output_type": "stream",
     "text": [
      "3326408\n",
      "[35.12]\n",
      "[3326408]\n"
     ]
    }
   ],
   "source": [
    "seoul_over_fifty = sum(list(by_age_population.loc[12:19, '2016'].astype('int64')))\n",
    "print(seoul_over_fifty)\n",
    "\n",
    "over_fifty_ratio.append(round((seoul_over_fifty/seoul_population)*100, 2))\n",
    "print(over_fifty_ratio)\n",
    "area_over_fifty.append(seoul_over_fifty)\n",
    "print(area_over_fifty)"
   ]
  },
  {
   "cell_type": "code",
   "execution_count": 114,
   "id": "loose-extra",
   "metadata": {},
   "outputs": [
    {
     "name": "stdout",
     "output_type": "stream",
     "text": [
      "3394316\n"
     ]
    }
   ],
   "source": [
    "print(by_age_population.loc[25, '2016'])"
   ]
  },
  {
   "cell_type": "code",
   "execution_count": 115,
   "id": "earlier-solution",
   "metadata": {},
   "outputs": [
    {
     "name": "stdout",
     "output_type": "stream",
     "text": [
      "3394316\n"
     ]
    }
   ],
   "source": [
    "busan_population = int(by_age_population.loc[25, '2016'])\n",
    "print(busan_population)"
   ]
  },
  {
   "cell_type": "code",
   "execution_count": 116,
   "id": "creative-sacrifice",
   "metadata": {},
   "outputs": [
    {
     "name": "stdout",
     "output_type": "stream",
     "text": [
      "1367294\n",
      "[35.12, 40.28]\n",
      "[3326408, 1367294]\n"
     ]
    }
   ],
   "source": [
    "busan_over_fifty = sum(list(by_age_population.loc[36:43, '2016'].astype('int64')))\n",
    "print(busan_over_fifty)\n",
    "over_fifty_ratio.append(round((busan_over_fifty/busan_population)*100, 2))\n",
    "print(over_fifty_ratio)\n",
    "area_over_fifty.append(busan_over_fifty)\n",
    "print(area_over_fifty)"
   ]
  },
  {
   "cell_type": "code",
   "execution_count": 117,
   "id": "graduate-client",
   "metadata": {},
   "outputs": [
    {
     "name": "stdout",
     "output_type": "stream",
     "text": [
      "2430510\n"
     ]
    }
   ],
   "source": [
    "daegu_population = int(by_age_population.loc[49, '2016'])\n",
    "print(by_age_population.loc[49, '2016'])"
   ]
  },
  {
   "cell_type": "code",
   "execution_count": 118,
   "id": "starting-brand",
   "metadata": {},
   "outputs": [
    {
     "name": "stdout",
     "output_type": "stream",
     "text": [
      "60    208701\n",
      "61    205773\n",
      "62    153802\n",
      "63    111690\n",
      "64     81996\n",
      "65     66802\n",
      "66     40347\n",
      "67     22678\n",
      "Name: 2016, dtype: object\n"
     ]
    }
   ],
   "source": [
    "print(by_age_population.loc[60:67, '2016'])"
   ]
  },
  {
   "cell_type": "code",
   "execution_count": 119,
   "id": "atomic-laundry",
   "metadata": {},
   "outputs": [
    {
     "name": "stdout",
     "output_type": "stream",
     "text": [
      "891789\n",
      "[35.12, 40.28, 36.69]\n",
      "[3326408, 1367294, 891789]\n"
     ]
    }
   ],
   "source": [
    "daegu_over_fifty = sum(list(by_age_population.loc[60:67, '2016'].astype('int64')))\n",
    "print(daegu_over_fifty) \n",
    "over_fifty_ratio.append(round((daegu_over_fifty/daegu_population)*100, 2))\n",
    "print(over_fifty_ratio)\n",
    "area_over_fifty.append(daegu_over_fifty)\n",
    "print(area_over_fifty)"
   ]
  },
  {
   "cell_type": "code",
   "execution_count": 120,
   "id": "offensive-plaintiff",
   "metadata": {},
   "outputs": [
    {
     "name": "stdout",
     "output_type": "stream",
     "text": [
      "2841151\n"
     ]
    }
   ],
   "source": [
    "incheon_population = int(by_age_population.loc[73, '2016'])\n",
    "print(by_age_population.loc[73, '2016'])"
   ]
  },
  {
   "cell_type": "code",
   "execution_count": 121,
   "id": "absolute-article",
   "metadata": {},
   "outputs": [
    {
     "name": "stdout",
     "output_type": "stream",
     "text": [
      "84    246810\n",
      "85    240439\n",
      "86    160142\n",
      "87    106421\n",
      "88     81859\n",
      "89     62698\n",
      "90     39320\n",
      "91     26594\n",
      "Name: 2016, dtype: object\n"
     ]
    }
   ],
   "source": [
    "print(by_age_population.loc[84:91, '2016'])"
   ]
  },
  {
   "cell_type": "code",
   "execution_count": 122,
   "id": "curious-exhibit",
   "metadata": {},
   "outputs": [
    {
     "name": "stdout",
     "output_type": "stream",
     "text": [
      "964283\n",
      "[35.12, 40.28, 36.69, 33.94]\n",
      "[3326408, 1367294, 891789, 964283]\n"
     ]
    }
   ],
   "source": [
    "incheon_over_fifty = sum(list(by_age_population.loc[84:91, '2016'].astype('int64')))\n",
    "print(incheon_over_fifty)\n",
    "over_fifty_ratio.append(round((incheon_over_fifty/incheon_population)*100, 2))\n",
    "print(over_fifty_ratio)\n",
    "area_over_fifty.append(incheon_over_fifty)\n",
    "print(area_over_fifty)"
   ]
  },
  {
   "cell_type": "code",
   "execution_count": 123,
   "id": "deadly-advantage",
   "metadata": {},
   "outputs": [
    {
     "name": "stdout",
     "output_type": "stream",
     "text": [
      "1477856\n"
     ]
    }
   ],
   "source": [
    "print(by_age_population.loc[97, '2016'])\n",
    "gwangju_population = int(by_age_population.loc[97, '2016'])"
   ]
  },
  {
   "cell_type": "code",
   "execution_count": 124,
   "id": "structured-portugal",
   "metadata": {},
   "outputs": [
    {
     "name": "stdout",
     "output_type": "stream",
     "text": [
      "108    116006\n",
      "109    110190\n",
      "110     74989\n",
      "111     59030\n",
      "112     45256\n",
      "113     34711\n",
      "114     21054\n",
      "115     14465\n",
      "Name: 2016, dtype: object\n",
      "[35.12, 40.28, 36.69, 33.94, 32.19]\n",
      "[3326408, 1367294, 891789, 964283, 475701]\n"
     ]
    }
   ],
   "source": [
    "print(by_age_population.loc[108:115, '2016'])\n",
    "gwangju_over_fifty = sum(list(by_age_population.loc[108:115, '2016'].astype('int64')))\n",
    "over_fifty_ratio.append(round((gwangju_over_fifty/gwangju_population)*100, 2))\n",
    "print(over_fifty_ratio)\n",
    "area_over_fifty.append(gwangju_over_fifty)\n",
    "print(area_over_fifty)"
   ]
  },
  {
   "cell_type": "code",
   "execution_count": 125,
   "id": "mobile-pregnancy",
   "metadata": {},
   "outputs": [
    {
     "name": "stdout",
     "output_type": "stream",
     "text": [
      "1515758\n"
     ]
    }
   ],
   "source": [
    "print(by_age_population.loc[121, '2016'])"
   ]
  },
  {
   "cell_type": "code",
   "execution_count": 126,
   "id": "rolled-peter",
   "metadata": {},
   "outputs": [
    {
     "ename": "NameError",
     "evalue": "name 'daejeon' is not defined",
     "output_type": "error",
     "traceback": [
      "\u001b[1;31m---------------------------------------------------------------------------\u001b[0m",
      "\u001b[1;31mNameError\u001b[0m                                 Traceback (most recent call last)",
      "\u001b[1;32m<ipython-input-126-fd0b3c4cfe2f>\u001b[0m in \u001b[0;36m<module>\u001b[1;34m\u001b[0m\n\u001b[0;32m      1\u001b[0m \u001b[0mdaejeon_population\u001b[0m \u001b[1;33m=\u001b[0m \u001b[0mint\u001b[0m\u001b[1;33m(\u001b[0m\u001b[0mby_age_population\u001b[0m\u001b[1;33m.\u001b[0m\u001b[0mloc\u001b[0m\u001b[1;33m[\u001b[0m\u001b[1;36m121\u001b[0m\u001b[1;33m,\u001b[0m \u001b[1;34m'2016'\u001b[0m\u001b[1;33m]\u001b[0m\u001b[1;33m)\u001b[0m\u001b[1;33m\u001b[0m\u001b[1;33m\u001b[0m\u001b[0m\n\u001b[1;32m----> 2\u001b[1;33m \u001b[0mprint\u001b[0m\u001b[1;33m(\u001b[0m\u001b[0mdaejeon\u001b[0m\u001b[1;33m)\u001b[0m\u001b[1;33m\u001b[0m\u001b[1;33m\u001b[0m\u001b[0m\n\u001b[0m",
      "\u001b[1;31mNameError\u001b[0m: name 'daejeon' is not defined"
     ]
    }
   ],
   "source": [
    "daejeon_population = int(by_age_population.loc[121, '2016'])\n",
    "print(daejeon)"
   ]
  },
  {
   "cell_type": "code",
   "execution_count": 127,
   "id": "moving-english",
   "metadata": {},
   "outputs": [
    {
     "name": "stdout",
     "output_type": "stream",
     "text": [
      "132    117174\n",
      "133    118164\n",
      "134     83973\n",
      "135     57464\n",
      "136     43738\n",
      "137     33729\n",
      "138     21571\n",
      "139     14146\n",
      "Name: 2016, dtype: object\n"
     ]
    }
   ],
   "source": [
    "print(by_age_population.loc[132:139, '2016'])"
   ]
  },
  {
   "cell_type": "code",
   "execution_count": 128,
   "id": "located-valentine",
   "metadata": {},
   "outputs": [
    {
     "name": "stdout",
     "output_type": "stream",
     "text": [
      "489959\n",
      "[35.12, 40.28, 36.69, 33.94, 32.19, 32.32]\n",
      "[3326408, 1367294, 891789, 964283, 475701, 489959]\n"
     ]
    }
   ],
   "source": [
    "daejeon_over_fifty = sum(list(by_age_population.loc[132:139, '2016'].astype('int64')))\n",
    "print(daejeon_over_fifty)\n",
    "over_fifty_ratio.append(round((daejeon_over_fifty/daejeon_population)*100, 2))\n",
    "print(over_fifty_ratio)\n",
    "area_over_fifty.append(daejeon_over_fifty)\n",
    "print(area_over_fifty)"
   ]
  },
  {
   "cell_type": "code",
   "execution_count": 129,
   "id": "precious-advocacy",
   "metadata": {},
   "outputs": [
    {
     "name": "stdout",
     "output_type": "stream",
     "text": [
      "1137241\n"
     ]
    }
   ],
   "source": [
    "print(by_age_population.loc[145, '2016'])\n",
    "ulsan_population = int(by_age_population.loc[145, '2016'])"
   ]
  },
  {
   "cell_type": "code",
   "execution_count": 130,
   "id": "running-automation",
   "metadata": {},
   "outputs": [
    {
     "name": "stdout",
     "output_type": "stream",
     "text": [
      "156    103171\n",
      "157     97004\n",
      "158     64918\n",
      "159     40885\n",
      "160     26842\n",
      "161     19596\n",
      "162     11685\n",
      "163      7269\n",
      "Name: 2016, dtype: object\n",
      "[35.12, 40.28, 36.69, 33.94, 32.19, 32.32, 32.66]\n",
      "[3326408, 1367294, 891789, 964283, 475701, 489959, 371370]\n"
     ]
    }
   ],
   "source": [
    "print(by_age_population.loc[156:163, '2016'])\n",
    "ulsan_over_fifty = sum(list(by_age_population.loc[156:163, '2016'].astype('int64')))\n",
    "over_fifty_ratio.append(round((ulsan_over_fifty/ulsan_population)*100, 2))\n",
    "print(over_fifty_ratio)\n",
    "area_over_fifty.append(ulsan_over_fifty)\n",
    "print(area_over_fifty)"
   ]
  },
  {
   "cell_type": "code",
   "execution_count": 131,
   "id": "otherwise-toddler",
   "metadata": {},
   "outputs": [
    {
     "name": "stdout",
     "output_type": "stream",
     "text": [
      "237672\n",
      "180    13951\n",
      "181    13517\n",
      "182    10079\n",
      "183     7078\n",
      "184     5560\n",
      "185     4817\n",
      "186     3275\n",
      "187     2130\n",
      "Name: 2016, dtype: object\n",
      "[35.12, 40.28, 36.69, 33.94, 32.19, 32.32, 32.66, 25.42]\n",
      "[3326408, 1367294, 891789, 964283, 475701, 489959, 371370, 60407]\n"
     ]
    }
   ],
   "source": [
    "print(by_age_population.loc[169, '2016'])\n",
    "sejong_population = int(by_age_population.loc[169, '2016'])\n",
    "print(by_age_population.loc[180:187, '2016'])\n",
    "sejong_over_fifty = sum(list(by_age_population.loc[180:187, '2016'].astype('int64')))\n",
    "over_fifty_ratio.append(round((sejong_over_fifty/sejong_population)*100, 2))\n",
    "print(over_fifty_ratio)\n",
    "area_over_fifty.append(sejong_over_fifty)\n",
    "print(area_over_fifty)"
   ]
  },
  {
   "cell_type": "code",
   "execution_count": 132,
   "id": "civic-cancellation",
   "metadata": {},
   "outputs": [
    {
     "name": "stdout",
     "output_type": "stream",
     "text": [
      "12199257\n",
      "204    1003764\n",
      "205     940329\n",
      "206     639097\n",
      "207     430447\n",
      "208     348702\n",
      "209     277523\n",
      "210     171786\n",
      "211     113196\n",
      "Name: 2016, dtype: object\n",
      "[35.12, 40.28, 36.69, 33.94, 32.19, 32.32, 32.66, 25.42, 32.17]\n",
      "[3326408, 1367294, 891789, 964283, 475701, 489959, 371370, 60407, 3924844]\n"
     ]
    }
   ],
   "source": [
    "print(by_age_population.loc[193, '2016'])\n",
    "print(by_age_population.loc[204:211, '2016'])\n",
    "gyeonggi_population = int(by_age_population.loc[193, '2016'])\n",
    "gyeonggi_over_fifty = sum(list(by_age_population.loc[204:211, '2016'].astype('int64')))\n",
    "over_fifty_ratio.append(round((gyeonggi_over_fifty/gyeonggi_population)*100, 2))\n",
    "print(over_fifty_ratio)\n",
    "area_over_fifty.append(gyeonggi_over_fifty)\n",
    "print(area_over_fifty)"
   ]
  },
  {
   "cell_type": "code",
   "execution_count": 133,
   "id": "impressed-elevation",
   "metadata": {},
   "outputs": [
    {
     "name": "stdout",
     "output_type": "stream",
     "text": [
      "1502387\n"
     ]
    }
   ],
   "source": [
    "gangwon_population = int(by_age_population.loc[217, '2016'])\n",
    "print(by_age_population.loc[217, '2016'])"
   ]
  },
  {
   "cell_type": "code",
   "execution_count": 134,
   "id": "royal-secretary",
   "metadata": {},
   "outputs": [
    {
     "name": "stdout",
     "output_type": "stream",
     "text": [
      "228    122535\n",
      "229    137941\n",
      "230    105785\n",
      "231     69228\n",
      "232     68721\n",
      "233     60625\n",
      "234     34797\n",
      "235     24297\n",
      "Name: 2016, dtype: object\n",
      "[35.12, 40.28, 36.69, 33.94, 32.19, 32.32, 32.66, 25.42, 32.17, 41.53]\n",
      "[3326408, 1367294, 891789, 964283, 475701, 489959, 371370, 60407, 3924844, 623929]\n"
     ]
    }
   ],
   "source": [
    "print(by_age_population.loc[228:235, '2016'])\n",
    "gangwon_over_fifty = sum(list(by_age_population.loc[228:235, '2016'].astype('int64')))\n",
    "over_fifty_ratio.append(round((gangwon_over_fifty/gangwon_population)*100, 2))\n",
    "print(over_fifty_ratio)\n",
    "area_over_fifty.append(gangwon_over_fifty)\n",
    "print(area_over_fifty)"
   ]
  },
  {
   "cell_type": "code",
   "execution_count": 135,
   "id": "jewish-network",
   "metadata": {},
   "outputs": [
    {
     "name": "stdout",
     "output_type": "stream",
     "text": [
      "1558503\n",
      "252    123802\n",
      "253    131247\n",
      "254     98139\n",
      "255     65921\n",
      "256     59066\n",
      "257     52971\n",
      "258     35130\n",
      "259     21044\n",
      "Name: 2016, dtype: object\n",
      "[35.12, 40.28, 36.69, 33.94, 32.19, 32.32, 32.66, 25.42, 32.17, 41.53, 37.68]\n",
      "[3326408, 1367294, 891789, 964283, 475701, 489959, 371370, 60407, 3924844, 623929, 587320]\n"
     ]
    }
   ],
   "source": [
    "chungbuk_population = int(by_age_population.loc[241, '2016'])\n",
    "print(by_age_population.loc[241, '2016'])\n",
    "print(by_age_population.loc[252:259, '2016'])\n",
    "chungbuk_over_fifty = sum(list(by_age_population.loc[252:259, '2016'].astype('int64')))\n",
    "over_fifty_ratio.append(round((chungbuk_over_fifty/chungbuk_population)*100, 2))\n",
    "print(over_fifty_ratio)\n",
    "area_over_fifty.append(chungbuk_over_fifty)\n",
    "print(area_over_fifty)"
   ]
  },
  {
   "cell_type": "code",
   "execution_count": 136,
   "id": "massive-satisfaction",
   "metadata": {},
   "outputs": [
    {
     "name": "stdout",
     "output_type": "stream",
     "text": [
      "2055033\n",
      "276    151996\n",
      "277    159233\n",
      "278    121018\n",
      "279     96161\n",
      "280     79927\n",
      "281     74883\n",
      "282     55021\n",
      "283     32779\n",
      "Name: 2016, dtype: object\n",
      "[35.12, 40.28, 36.69, 33.94, 32.19, 32.32, 32.66, 25.42, 32.17, 41.53, 37.68, 37.52]\n",
      "[3326408, 1367294, 891789, 964283, 475701, 489959, 371370, 60407, 3924844, 623929, 587320, 771018]\n"
     ]
    }
   ],
   "source": [
    "chungnam_population = int(by_age_population.loc[265, '2016'])\n",
    "print(by_age_population.loc[265, '2016'])\n",
    "print(by_age_population.loc[276:283, '2016'])\n",
    "chungnam_over_fifty = sum(list(by_age_population.loc[276:283, '2016'].astype('int64')))\n",
    "over_fifty_ratio.append(round((chungnam_over_fifty/chungnam_population)*100, 2))\n",
    "print(over_fifty_ratio)\n",
    "area_over_fifty.append(chungnam_over_fifty)\n",
    "print(area_over_fifty)"
   ]
  },
  {
   "cell_type": "code",
   "execution_count": 137,
   "id": "extreme-bible",
   "metadata": {},
   "outputs": [
    {
     "name": "stdout",
     "output_type": "stream",
     "text": [
      "1801619\n",
      "300    139518\n",
      "301    146522\n",
      "302    113955\n",
      "303     97098\n",
      "304     81006\n",
      "305     71207\n",
      "306     49915\n",
      "307     31926\n",
      "Name: 2016, dtype: object\n",
      "[35.12, 40.28, 36.69, 33.94, 32.19, 32.32, 32.66, 25.42, 32.17, 41.53, 37.68, 37.52, 40.58]\n",
      "[3326408, 1367294, 891789, 964283, 475701, 489959, 371370, 60407, 3924844, 623929, 587320, 771018, 731147]\n"
     ]
    }
   ],
   "source": [
    "\n",
    "jeollabukdo_population = int(by_age_population.loc[289, '2016'])\n",
    "print(by_age_population.loc[289, '2016'])\n",
    "print(by_age_population.loc[300:307, '2016'])\n",
    "jeollabukdo_over_fifty = sum(list(by_age_population.loc[300:307, '2016'].astype('int64')))\n",
    "over_fifty_ratio.append(round((jeollabukdo_over_fifty/jeollabukdo_population)*100, 2))\n",
    "print(over_fifty_ratio)\n",
    "area_over_fifty.append(jeollabukdo_over_fifty)\n",
    "print(area_over_fifty)"
   ]
  },
  {
   "cell_type": "code",
   "execution_count": 138,
   "id": "removed-group",
   "metadata": {},
   "outputs": [
    {
     "name": "stdout",
     "output_type": "stream",
     "text": [
      "1759387\n",
      "324    141081\n",
      "325    149821\n",
      "326    113563\n",
      "327    103368\n",
      "328     92052\n",
      "329     87885\n",
      "330     55751\n",
      "331     36358\n",
      "Name: 2016, dtype: object\n",
      "[35.12, 40.28, 36.69, 33.94, 32.19, 32.32, 32.66, 25.42, 32.17, 41.53, 37.68, 37.52, 40.58, 44.33]\n",
      "[3326408, 1367294, 891789, 964283, 475701, 489959, 371370, 60407, 3924844, 623929, 587320, 771018, 731147, 779879]\n"
     ]
    }
   ],
   "source": [
    "jeollanamdo_population = int(by_age_population.loc[313, '2016'])\n",
    "print(by_age_population.loc[313, '2016'])\n",
    "print(by_age_population.loc[324:331, '2016'])\n",
    "jeollanamdo_over_fifty = sum(list(by_age_population.loc[324:331, '2016'].astype('int64')))\n",
    "over_fifty_ratio.append(round((jeollanamdo_over_fifty/jeollanamdo_population)*100, 2))\n",
    "print(over_fifty_ratio)\n",
    "area_over_fifty.append(jeollanamdo_over_fifty)\n",
    "print(area_over_fifty)"
   ]
  },
  {
   "cell_type": "code",
   "execution_count": 139,
   "id": "fabulous-yemen",
   "metadata": {},
   "outputs": [
    {
     "name": "stdout",
     "output_type": "stream",
     "text": [
      "2621463\n",
      "348    213705\n",
      "349    228464\n",
      "350    183407\n",
      "351    140488\n",
      "352    113426\n",
      "353    107396\n",
      "354     72093\n",
      "355     44533\n",
      "Name: 2016, dtype: object\n",
      "[35.12, 40.28, 36.69, 33.94, 32.19, 32.32, 32.66, 25.42, 32.17, 41.53, 37.68, 37.52, 40.58, 44.33, 42.1]\n",
      "[3326408, 1367294, 891789, 964283, 475701, 489959, 371370, 60407, 3924844, 623929, 587320, 771018, 731147, 779879, 1103512]\n"
     ]
    }
   ],
   "source": [
    "gyeongsangbukdo_population = int(by_age_population.loc[337, '2016'])\n",
    "print(by_age_population.loc[337, '2016'])\n",
    "print(by_age_population.loc[348:355, '2016'])\n",
    "gyeongsangbukdo_over_fifty = sum(list(by_age_population.loc[348:355, '2016'].astype('int64')))\n",
    "over_fifty_ratio.append(round((gyeongsangbukdo_over_fifty/gyeongsangbukdo_population)*100, 2))\n",
    "print(over_fifty_ratio)\n",
    "area_over_fifty.append(gyeongsangbukdo_over_fifty)\n",
    "print(area_over_fifty)"
   ]
  },
  {
   "cell_type": "code",
   "execution_count": 140,
   "id": "charming-bicycle",
   "metadata": {},
   "outputs": [
    {
     "name": "stdout",
     "output_type": "stream",
     "text": [
      "3247448\n",
      "372    267481\n",
      "373    273780\n",
      "374    201854\n",
      "375    146316\n",
      "376    112522\n",
      "377    100652\n",
      "378     65702\n",
      "379     40300\n",
      "Name: 2016, dtype: object\n",
      "[35.12, 40.28, 36.69, 33.94, 32.19, 32.32, 32.66, 25.42, 32.17, 41.53, 37.68, 37.52, 40.58, 44.33, 42.1, 37.22]\n",
      "[3326408, 1367294, 891789, 964283, 475701, 489959, 371370, 60407, 3924844, 623929, 587320, 771018, 731147, 779879, 1103512, 1208607]\n"
     ]
    }
   ],
   "source": [
    "gyeongsangnamdo_population = int(by_age_population.loc[361, '2016'])\n",
    "print(by_age_population.loc[361, '2016'])\n",
    "print(by_age_population.loc[372:379, '2016'])\n",
    "gyeongsangnamdo_over_fifty = sum(list(by_age_population.loc[372:379, '2016'].astype('int64')))\n",
    "over_fifty_ratio.append(round((gyeongsangnamdo_over_fifty/gyeongsangnamdo_population)*100, 2))\n",
    "print(over_fifty_ratio)\n",
    "area_over_fifty.append(gyeongsangnamdo_over_fifty)\n",
    "print(area_over_fifty)"
   ]
  },
  {
   "cell_type": "code",
   "execution_count": 141,
   "id": "distributed-armor",
   "metadata": {},
   "outputs": [
    {
     "name": "stdout",
     "output_type": "stream",
     "text": [
      "605856\n",
      "396    49413\n",
      "397    45484\n",
      "398    33519\n",
      "399    25629\n",
      "400    21431\n",
      "401    18136\n",
      "402    12528\n",
      "403     8511\n",
      "Name: 2016, dtype: object\n",
      "[35.12, 40.28, 36.69, 33.94, 32.19, 32.32, 32.66, 25.42, 32.17, 41.53, 37.68, 37.52, 40.58, 44.33, 42.1, 37.22, 35.43]\n",
      "[3326408, 1367294, 891789, 964283, 475701, 489959, 371370, 60407, 3924844, 623929, 587320, 771018, 731147, 779879, 1103512, 1208607, 214651]\n"
     ]
    }
   ],
   "source": [
    "jeju_population = int(by_age_population.loc[385, '2016'])\n",
    "print(by_age_population.loc[385, '2016'])\n",
    "print(by_age_population.loc[396:403, '2016'])\n",
    "jeju_over_fifty = sum(list(by_age_population.loc[396:403, '2016'].astype('int64')))\n",
    "over_fifty_ratio.append(round((jeju_over_fifty/jeju_population)*100, 2))\n",
    "print(over_fifty_ratio)\n",
    "area_over_fifty.append(jeju_over_fifty)\n",
    "print(area_over_fifty)"
   ]
  },
  {
   "cell_type": "code",
   "execution_count": 142,
   "id": "copyrighted-evaluation",
   "metadata": {},
   "outputs": [
    {
     "data": {
      "text/plain": [
       "17"
      ]
     },
     "execution_count": 142,
     "metadata": {},
     "output_type": "execute_result"
    }
   ],
   "source": [
    "len(over_fifty_ratio)"
   ]
  },
  {
   "cell_type": "code",
   "execution_count": 143,
   "id": "norwegian-freeze",
   "metadata": {},
   "outputs": [
    {
     "name": "stdout",
     "output_type": "stream",
     "text": [
      "93500\n"
     ]
    }
   ],
   "source": [
    "print(sum(list(medical_care.loc[13, '2019.12':].astype('int64'))))"
   ]
  },
  {
   "cell_type": "code",
   "execution_count": 144,
   "id": "sealed-strike",
   "metadata": {},
   "outputs": [
    {
     "name": "stdout",
     "output_type": "stream",
     "text": [
      "[166860, 93500, 60678, 59184, 33495, 28530, 12623, 2549, 158470, 39348, 31110, 36100, 51363, 47117, 63315, 62236, 11815]\n"
     ]
    }
   ],
   "source": [
    "medical_over_fifty = []\n",
    "for i in range(10, 61, 3):\n",
    "    medical_over_fifty.append(sum(list(medical_care.loc[i, '2019.12':].astype('int64'))))\n",
    "print(medical_over_fifty)"
   ]
  },
  {
   "cell_type": "code",
   "execution_count": 145,
   "id": "quarterly-federation",
   "metadata": {},
   "outputs": [
    {
     "data": {
      "text/plain": [
       "17"
      ]
     },
     "execution_count": 145,
     "metadata": {},
     "output_type": "execute_result"
    }
   ],
   "source": [
    "len(medical_over_fifty)"
   ]
  },
  {
   "cell_type": "code",
   "execution_count": 146,
   "id": "automatic-caution",
   "metadata": {},
   "outputs": [
    {
     "name": "stdout",
     "output_type": "stream",
     "text": [
      "17\n"
     ]
    }
   ],
   "source": [
    "print(len(area_over_fifty))"
   ]
  },
  {
   "cell_type": "code",
   "execution_count": 147,
   "id": "isolated-extension",
   "metadata": {},
   "outputs": [
    {
     "name": "stdout",
     "output_type": "stream",
     "text": [
      "[5.016221702208509, 6.838324456920018, 6.804075852023292, 6.137617276256037, 7.041187636771838, 5.822936204866122, 3.399036001831058, 4.219709636300429, 4.037612705116433, 6.306486795773238, 5.296942041817068, 4.682121558770353, 7.024989502794924, 6.041578244830288, 5.737590529146941, 5.149399267090129, 5.504283697723281]\n"
     ]
    }
   ],
   "source": [
    "print(list(np.array(medical_over_fifty)/np.array(area_over_fifty)*100))"
   ]
  },
  {
   "cell_type": "code",
   "execution_count": 148,
   "id": "effective-repair",
   "metadata": {},
   "outputs": [],
   "source": [
    "area_medical_over_fifty = list(np.array(medical_over_fifty)/np.array(area_over_fifty)*100)\n"
   ]
  },
  {
   "cell_type": "code",
   "execution_count": 151,
   "id": "wicked-festival",
   "metadata": {
    "scrolled": false
   },
   "outputs": [
    {
     "data": {
      "image/png": "[encoded data removed]",
      "text/plain": [
       "<Figure size 1296x936 with 3 Axes>"
      ]
     },
     "metadata": {},
     "output_type": "display_data"
    }
   ],
   "source": [
    "fig = plt.figure()\n",
    "fig.set_size_inches(18,13)\n",
    "ax1 = fig.add_subplot(3, 1, 1)\n",
    "ax2 = fig.add_subplot(3, 1, 2)\n",
    "ax3 = fig.add_subplot(3, 1, 3)\n",
    "\n",
    "x = idx2\n",
    "y = over_fifty_ratio\n",
    "w = area_medical_ratio\n",
    "z = area_medical_over_fifty\n",
    "\n",
    "ax1.bar(x, y, color='khaki')\n",
    "ax1.set_title('지역별 50대이상 비율')\n",
    "ax2.bar(x, w, color='olive')\n",
    "ax2.set_title('지역별 인구대비 의료급여 적용인구 비율')\n",
    "ax3.bar(x, z, color='darkkhaki')\n",
    "ax3.set_title('지역별 50대 이상 인구대비 의료급여 적용인구 비율')\n",
    "plt.show()"
   ]
  },
  {
   "cell_type": "markdown",
   "id": "higher-coupon",
   "metadata": {},
   "source": [
    "## 지역 별 50대 이상 인구 비율\n",
    "### 전남이 가장 높은 비율을 차지하고 있다.\n",
    "### 세종이 가장 낮은 비율을 차지하고 있다.\n",
    "### 인천, 광주, 대전은 50대 이상 인구 비율이 비슷하지만 의료급여 적용인구 비율은 광주가 다른 시도에 비해서 높다.\n",
    "### 서울, 경기는 생각보다 의료급여 적용인구 비율이 낮다는 것을 알 수 있다.\n",
    "### 세종시의 평균 연령은 36.1세다. 그래서 의료급여 적용 인구 비율이 낮다고 생각된다."
   ]
  },
  {
   "cell_type": "code",
   "execution_count": 270,
   "id": "known-discussion",
   "metadata": {},
   "outputs": [
    {
     "name": "stdout",
     "output_type": "stream",
     "text": [
      "12    734368\n",
      "13    763943\n",
      "14    598732\n",
      "Name: 2016, dtype: object\n"
     ]
    }
   ],
   "source": [
    "print(sum(list(by_age_population.loc[12:14, '2016'].astype('int64'))))"
   ]
  },
  {
   "cell_type": "code",
   "execution_count": 273,
   "id": "subjective-zealand",
   "metadata": {},
   "outputs": [
    {
     "name": "stdout",
     "output_type": "stream",
     "text": [
      "209704.3\n"
     ]
    }
   ],
   "source": [
    "fifty_to_sixtyfive = sum(list(by_age_population.loc[12:14, '2016'].astype('int64')))\n",
    "print(round(fifty_to_sixtyfive*0.136, 2))"
   ]
  },
  {
   "cell_type": "code",
   "execution_count": 313,
   "id": "infinite-hollywood",
   "metadata": {},
   "outputs": [
    {
     "name": "stdout",
     "output_type": "stream",
     "text": [
      "17    240627\n",
      "18    132351\n",
      "19     84082\n",
      "Name: 2016, dtype: object\n"
     ]
    }
   ],
   "source": [
    "over_seventy = []\n",
    "print(by_age_population.loc[17:19, '2016'])"
   ]
  },
  {
   "cell_type": "code",
   "execution_count": 314,
   "id": "spare-austin",
   "metadata": {},
   "outputs": [
    {
     "name": "stdout",
     "output_type": "stream",
     "text": [
      "198408\n"
     ]
    }
   ],
   "source": [
    "print(sum(by_age_population.loc[41:43, '2016'].astype('int64')))"
   ]
  },
  {
   "cell_type": "code",
   "execution_count": 315,
   "id": "stopped-toddler",
   "metadata": {},
   "outputs": [
    {
     "name": "stdout",
     "output_type": "stream",
     "text": [
      "[457060, 198408, 129827, 128612, 70230, 69446, 38550, 10222, 562505, 119719, 109145, 162683, 153048, 179994, 224022, 206654, 39175]\n"
     ]
    }
   ],
   "source": [
    "for i in range(17, 409, 24):\n",
    "    over_seventy.append(sum(by_age_population.loc[i:i+2, '2016'].astype('int64')))\n",
    "print(over_seventy)"
   ]
  },
  {
   "cell_type": "code",
   "execution_count": 322,
   "id": "sonic-excerpt",
   "metadata": {},
   "outputs": [
    {
     "data": {
      "text/plain": [
       "1589770.8"
      ]
     },
     "execution_count": 322,
     "metadata": {},
     "output_type": "execute_result"
    }
   ],
   "source": [
    "sum(over_seventy)*0.556"
   ]
  },
  {
   "cell_type": "code",
   "execution_count": 317,
   "id": "sound-proof",
   "metadata": {},
   "outputs": [
    {
     "name": "stdout",
     "output_type": "stream",
     "text": [
      "15    435313\n",
      "16    336992\n",
      "Name: 2016, dtype: object\n"
     ]
    }
   ],
   "source": [
    "over_fifty = []\n",
    "print(by_age_population.loc[15:16, '2016'])"
   ]
  },
  {
   "cell_type": "code",
   "execution_count": 318,
   "id": "quarterly-arctic",
   "metadata": {},
   "outputs": [
    {
     "name": "stdout",
     "output_type": "stream",
     "text": [
      "[772305, 324185, 193686, 188280, 104286, 101202, 67727, 12638, 779149, 137949, 124987, 176088, 178104, 195420, 253914, 258838, 47060]\n"
     ]
    }
   ],
   "source": [
    "for i in range(15, 409, 24):\n",
    "    over_fifty.append(sum(by_age_population.loc[i:i+1, '2016'].astype('int64')))\n",
    "print(over_fifty)"
   ]
  },
  {
   "cell_type": "code",
   "execution_count": 320,
   "id": "acquired-gibson",
   "metadata": {},
   "outputs": [
    {
     "name": "stdout",
     "output_type": "stream",
     "text": [
      "1319630.6660000002\n"
     ]
    }
   ],
   "source": [
    "print(sum(over_fifty)*0.337)"
   ]
  },
  {
   "cell_type": "code",
   "execution_count": 323,
   "id": "literary-excuse",
   "metadata": {},
   "outputs": [
    {
     "name": "stdout",
     "output_type": "stream",
     "text": [
      "2909401.466\n"
     ]
    }
   ],
   "source": [
    "print(sum(over_fifty)*0.337 + sum(over_seventy)*0.556)"
   ]
  },
  {
   "attachments": {
    "image.png": {
     "image/png": "[encoded data removed]"
    }
   },
   "cell_type": "markdown",
   "id": "excellent-planning",
   "metadata": {},
   "source": [
    "![image.png](attachment:image.png)"
   ]
  },
  {
   "cell_type": "markdown",
   "id": "weighted-algeria",
   "metadata": {},
   "source": [
    "## 지역 별 50대 이상 인구 비율\n",
    "### 전남이 가장 높은 비율을 차지하고 있다.\n",
    "### 세종이 가장 낮은 비율을 차지하고 있다.\n",
    "### 인천, 광주, 대전은 50대 이상 인구 비율이 비슷하지만 의료급여 적용인구 비율은 광주가 다른 시도에 비해서 높다.\n",
    "### 서울, 경기는 생각보다 의료급여 적용인구 비율이 낮다는 것을 알 수 있다.\n",
    "### 세종시의 평균 연령은 36.1세다. 그래서 의료급여 적용 인구 비율이 낮다고 생각된다."
   ]
  },
  {
   "cell_type": "markdown",
   "id": "funky-length",
   "metadata": {},
   "source": [
    "## 최종적으로 구현하고 싶은 웹서비스\n",
    "\n",
    "### 현재 기초생활수급자 수는 1881357이다. 의료급여 수급자 인구 수는 1488846이다.\n",
    "\n",
    "\n",
    "###  66세 ~ 75세의 중위 소득 50%이하는 33.7%, 76세이상 중위소득 50%이하는 55.6%이다. \n",
    "\n",
    "### 전국적으로 66세 ~ 75세, 76세 이상 50%이하 중위 소득 인구수는 약 290만 이다. \n",
    "\n",
    "### 기초생활수급자는 약 190만인데 비해 66세이상 중위 소득 50%이하 인구수는 290만이므로 특정 불균형이 있는 것으로 생각된다.\n",
    "\n",
    "### 개인적으로 정보의 불균형 때문에 당사자가 기초생활수급자 인지 알지 못하는 경우가 많다고 생각하여 설문 조사를 진행한 후 자신이 받을 수 있는 특정 의료 복지 혜택을 알려주는 웹서비스를 구현.\n",
    "\n"
   ]
  },
  {
   "cell_type": "code",
   "execution_count": null,
   "id": "exempt-tulsa",
   "metadata": {},
   "outputs": [],
   "source": []
  }
 ],
 "metadata": {
  "kernelspec": {
   "display_name": "Python 3",
   "language": "python",
   "name": "python3"
  },
  "language_info": {
   "codemirror_mode": {
    "name": "ipython",
    "version": 3
   },
   "file_extension": ".py",
   "mimetype": "text/x-python",
   "name": "python",
   "nbconvert_exporter": "python",
   "pygments_lexer": "ipython3",
   "version": "3.9.1"
  }
 },
 "nbformat": 4,
 "nbformat_minor": 5
}
